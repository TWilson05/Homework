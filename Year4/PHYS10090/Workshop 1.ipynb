{
 "cells": [
  {
   "cell_type": "markdown",
   "metadata": {
    "deletable": false,
    "editable": false,
    "nbgrader": {
     "cell_type": "markdown",
     "checksum": "241e2356fb51965316a437deecba1982",
     "grade": false,
     "grade_id": "cell-d539d4764d26a3c3",
     "locked": true,
     "schema_version": 3,
     "solution": false
    }
   },
   "source": [
    "## Numerical Recipes Workshop 1\n",
    "\n",
    "For the week of 25 September to 1 October, 2023\n",
    "\n",
    "**Please submit your notebook via Noteable by Friday evening\n",
    "\n",
    "**IMPORTANT!** Before submitting your notebook, clear the output by clicking *Restart & Clear Output* from the *Kernel* menu. If you do not do this, the file size of your notebook will be very large.\n",
    "\n",
    "### Learning Objectives\n",
    "- Refresh of Python basics and best practices\n",
    "- Integer and floating point precision\n",
    "- NumPy basics\n",
    "- Plotting with matplotlib\n",
    "    - basic plots\n",
    "    - multi-panel plots\n",
    "- Interpolation\n",
    "\n",
    "Please complete the workshop notebook before beginning on the checkpoint. **The workshop notebooks demonstrate everything you need to complete the checkpoints.**"
   ]
  },
  {
   "cell_type": "markdown",
   "metadata": {
    "deletable": false,
    "editable": false,
    "nbgrader": {
     "cell_type": "markdown",
     "checksum": "ab0d4ee9aa689d15e1c027e821093f3f",
     "grade": false,
     "grade_id": "cell-145213474bac13bd",
     "locked": true,
     "schema_version": 3,
     "solution": false
    }
   },
   "source": [
    "## Documentation\n",
    "\n",
    "Below are links to documentation for the versions of modules on Noteable.\n",
    "\n",
    "* Python: https://docs.python.org/3.9/\n",
    "* NumPy: https://numpy.org/doc/1.21/\n",
    "* SciPy: https://docs.scipy.org/doc/scipy/reference/\n",
    "* matplotlib: https://matplotlib.org/stable/index.html\n",
    "\n",
    "Advice: google is really helpful (e.g. \"numpy trapezoid rule\")"
   ]
  },
  {
   "cell_type": "markdown",
   "metadata": {
    "deletable": false,
    "editable": false,
    "nbgrader": {
     "cell_type": "markdown",
     "checksum": "0261f3fb798a0f28302c9d36ceefdf66",
     "grade": false,
     "grade_id": "cell-1fe864d87faa5c5e",
     "locked": true,
     "schema_version": 3,
     "solution": false,
     "task": false
    }
   },
   "source": [
    "# Jupyter notebook essentials\n",
    "\n",
    "\n",
    "The notebook consists of code blocks and text blocks. \n",
    "\n",
    "To execute the code block use 'Run' button at the top, or press 'Shift'+'Enter'"
   ]
  },
  {
   "cell_type": "markdown",
   "metadata": {
    "deletable": false,
    "editable": false,
    "nbgrader": {
     "cell_type": "markdown",
     "checksum": "a554213c206206d6109d1a5fc5861205",
     "grade": false,
     "grade_id": "cell-040323190d92ea45",
     "locked": true,
     "schema_version": 3,
     "solution": false
    }
   },
   "source": [
    "## Python/package Versions\n",
    "\n",
    "It's good to know what versions of Python and various packages you're using. Answers can be different or known bugs may exist in specific versions.\n",
    "\n",
    "Use sys package for Python version. Most external packages have a `__version__` attribute associated with the top level import."
   ]
  },
  {
   "cell_type": "code",
   "execution_count": null,
   "metadata": {},
   "outputs": [],
   "source": [
    "# Python version\n",
    "import sys\n",
    "print(sys.version)\n",
    "# Scipy version\n",
    "import scipy\n",
    "print(scipy.__version__)\n",
    "# Try numpy and matplotlib"
   ]
  },
  {
   "cell_type": "markdown",
   "metadata": {
    "deletable": false,
    "editable": false,
    "nbgrader": {
     "cell_type": "markdown",
     "checksum": "64251bc2774c7965965a6d9787e1a1cd",
     "grade": false,
     "grade_id": "cell-464564c5c460e773",
     "locked": true,
     "schema_version": 3,
     "solution": false
    }
   },
   "source": [
    "## The two most useful functions in Python\n",
    "\n",
    "* `dir` - list all names (variables, functions, etc) in the given scope, i.e., what's in here? Try the following:\n",
    "```\n",
    "# top level name space\n",
    "dir()\n",
    "x = 1\n",
    "dir()\n",
    "```\n",
    "```\n",
    "import sys\n",
    "# contents of the sys module\n",
    "dir(sys)\n",
    "```\n",
    "\n",
    "* `help` - show documentation for a function or object.\n",
    "```\n",
    "import numpy as np\n",
    "help(np.sum)\n",
    "```\n",
    "\n",
    "\n",
    "### Use `dir` to see what's in the NumPy module. Pick a random function and see what it does.\n",
    "\n",
    "\n",
    "### Challenge: create an array of values 0, 2, 4, ... 12 \n",
    "\n",
    "The resulting array should be:\n",
    "```\n",
    "array([[ 0,  2,  4,  6,  8, 10, 12]])\n",
    "```\n",
    "Hint: check out the `arange` NumPy functions.\n"
   ]
  },
  {
   "cell_type": "code",
   "execution_count": null,
   "metadata": {
    "deletable": false,
    "nbgrader": {
     "cell_type": "code",
     "checksum": "a9a89282e086305fe285f43aaf5da80f",
     "grade": false,
     "grade_id": "cell-1bf6dda9d609f137",
     "locked": false,
     "schema_version": 3,
     "solution": true,
     "task": false
    }
   },
   "outputs": [],
   "source": [
    "import numpy as np\n",
    "# YOUR CODE HERE\n",
    "raise NotImplementedError()"
   ]
  },
  {
   "cell_type": "markdown",
   "metadata": {
    "deletable": false,
    "editable": false,
    "nbgrader": {
     "cell_type": "markdown",
     "checksum": "e0e9692cf2479d35c05edbca9d4810bb",
     "grade": false,
     "grade_id": "cell-c01f7e7e7b174e2f",
     "locked": true,
     "schema_version": 3,
     "solution": false,
     "task": false
    }
   },
   "source": [
    "# Getting help in jupyter/ipython\n",
    "\n",
    "\n",
    "An alternative way of getting help on functions/modules/variables is a question mark \n",
    "\n",
    "```\n",
    "? scipy \n",
    "? np.sum\n",
    "```\n",
    "\n",
    "Try it!"
   ]
  },
  {
   "cell_type": "markdown",
   "metadata": {
    "deletable": false,
    "editable": false,
    "nbgrader": {
     "cell_type": "markdown",
     "checksum": "3ff8be65d03a1c4c9a11e70733ce15a6",
     "grade": false,
     "grade_id": "cell-a8fa2434d055758a",
     "locked": true,
     "schema_version": 3,
     "solution": false
    }
   },
   "source": [
    "## Best Practices\n",
    "\n",
    "* Put module imports at the top in the first code cell.\n",
    "* Rename modules to keep names short.\n",
    "```\n",
    "# Too long!\n",
    "import numpy\n",
    "x = numpy.arange(10)\n",
    "```\n",
    "```\n",
    "# Much better\n",
    "import numpy as np\n",
    "x = np.arange(10)\n",
    "```\n",
    "* Avoid `from MODULE import *`. Every available object will be in your namespace.\n",
    "```\n",
    "from scipy import *\n",
    "dir() # aaah!\n",
    "```\n",
    "* Be careful with variable names. Just about everything can be overwritten.\n",
    "```\n",
    "dir = 5\n",
    "dir()\n",
    "# The dir function is now lost. Doom.\n",
    "```\n",
    "* Use tab completion to recall function/object names. Start typing something and hit the [tab] key a couple times to bring up a menu of matching options. Use this in the terminal, too. Don't waste time typing long names.\n",
    "```\n",
    "np.su[tab][tab]\n",
    "```\n",
    "* **If things are getting messy,** restart the kernel using one of the *Restart* commands in the *Kernel* menu. This will reset your session, removing bad imports and extra variables.\n",
    "* **Cell taking too long to run?** From *Kernel* menu, click *Interrupt* to stop execution. Have a look at the traceback to see where the code was. This can give a hint as to why it's taking so long.\n",
    "* **Keep it neat.** Someone is most likely going to have to read your code someday. It should look nice, be clear, and conform to the style of code that was already there.\n",
    "* **Your notebook should always run correctly without running cells more than once or out of order.** You can check this by clicking *Restart & Run All* from the *Kernel* menu.\n",
    "\n",
    "### Plotting tips\n",
    "* add `%matplotlib inline` your import cell to get plots to show up in the notebook\n",
    "```\n",
    "from matplotlib import pyplot as plt\n",
    "%matplotlib inline\n",
    "```\n",
    "* add the following in a separate cell to make default plot and font sizes bigger\n",
    "```\n",
    "pyplot.rcParams['figure.figsize'] = (10, 6) # inches\n",
    "pyplot.rcParams['font.size'] = 14\n",
    "```"
   ]
  },
  {
   "cell_type": "markdown",
   "metadata": {
    "deletable": false,
    "editable": false,
    "nbgrader": {
     "cell_type": "markdown",
     "checksum": "a4bb4d7a7161e0566bfb68192774709d",
     "grade": false,
     "grade_id": "cell-73a6c541f603dddf",
     "locked": true,
     "schema_version": 3,
     "solution": false,
     "task": false
    }
   },
   "source": [
    "## More Best Practices: Organizing Your Code\n",
    "\n",
    "It is a good idea to split up your code between multiple cells such that each cell represents a single, logical step, e.g., a cell for module imports, defining a function, making a plot. This can be very helpful for debugging and reusing code."
   ]
  },
  {
   "cell_type": "markdown",
   "metadata": {
    "deletable": false,
    "editable": false,
    "nbgrader": {
     "cell_type": "markdown",
     "checksum": "0de7ff67e44f66fe2b325d92a7c8aa92",
     "grade": false,
     "grade_id": "cell-32d489c4c598d153",
     "locked": true,
     "schema_version": 3,
     "solution": false,
     "task": false
    }
   },
   "source": [
    "### Not great code organization\n",
    "\n",
    "The cell below does every step of the computation. If there are bugs anywhere in the cell, the whole cell won't run and debugging will be a pain. As well, imagine `my_function` takes a long time to calculate and you want tweak your plot over and over. You will be needlessly waiting for calculations to be done over and over again."
   ]
  },
  {
   "cell_type": "code",
   "execution_count": null,
   "metadata": {},
   "outputs": [],
   "source": [
    "from matplotlib import pyplot as plt\n",
    "import numpy as np\n",
    "\n",
    "def my_function(x):\n",
    "    return x**2\n",
    "\n",
    "my_x = np.linspace(0, 10)\n",
    "my_y = my_function(my_x)\n",
    "\n",
    "plt.plot(my_x, my_y)\n",
    "plt.show()"
   ]
  },
  {
   "cell_type": "markdown",
   "metadata": {
    "deletable": false,
    "editable": false,
    "nbgrader": {
     "cell_type": "markdown",
     "checksum": "dae1ef4390f51ed4b6ccb4991db675ac",
     "grade": false,
     "grade_id": "cell-589a9e76c6fb53ff",
     "locked": true,
     "schema_version": 3,
     "solution": false,
     "task": false
    }
   },
   "source": [
    "### Better code organization\n",
    "\n",
    "Below, we break the same code up into cells for imports, function definitions, the main code execution, and plotting the result. If anything goes wrong, it is much easier to isolate the section that is broken. As well, if `my_function` takes a long time to run, we can re-run the plotting cell over and over without having to wait."
   ]
  },
  {
   "cell_type": "code",
   "execution_count": null,
   "metadata": {},
   "outputs": [],
   "source": [
    "### imports\n",
    "from matplotlib import pyplot as plt\n",
    "import numpy as np"
   ]
  },
  {
   "cell_type": "code",
   "execution_count": null,
   "metadata": {},
   "outputs": [],
   "source": [
    "### function definitions\n",
    "### one function per cell is a good idea\n",
    "def my_function(x):\n",
    "    return x**2"
   ]
  },
  {
   "cell_type": "code",
   "execution_count": null,
   "metadata": {},
   "outputs": [],
   "source": [
    "### main code execution\n",
    "my_x = np.linspace(0, 10)\n",
    "my_y = my_function(my_x)"
   ]
  },
  {
   "cell_type": "code",
   "execution_count": null,
   "metadata": {},
   "outputs": [],
   "source": [
    "### plotting results\n",
    "plt.plot(my_x, my_y)\n",
    "plt.show()"
   ]
  },
  {
   "cell_type": "markdown",
   "metadata": {
    "deletable": false,
    "editable": false,
    "nbgrader": {
     "cell_type": "markdown",
     "checksum": "d67a696126fccae3245c0021e1fb6221",
     "grade": false,
     "grade_id": "cell-cd5ddbc036063707",
     "locked": true,
     "schema_version": 3,
     "solution": false
    }
   },
   "source": [
    "# Activities"
   ]
  },
  {
   "cell_type": "markdown",
   "metadata": {
    "deletable": false,
    "editable": false,
    "nbgrader": {
     "cell_type": "markdown",
     "checksum": "bc25939b9c57e13ec2005c53e9a646c1",
     "grade": false,
     "grade_id": "cell-beb45e2516cbe3cf",
     "locked": true,
     "schema_version": 3,
     "solution": false
    }
   },
   "source": [
    "## Integer and floating point precision\n",
    "Not all programming languages have fancy [arbitrary precision integers](https://rushter.com/blog/python-integer-implementation/). NumPy arrays of integers and floats will have limited precision.\n",
    "\n",
    "#### Integer types\n",
    "* `np.int8`, `np.int16`, `np.int32`, `np.int64`\n",
    "* `np.uint8`, `np.uint16`, `np.uint32`, `np.uint64`\n",
    "\n",
    "#### Floating point types\n",
    "* `np.float16`, `np.float32`, `np.float64`, `np.float128`\n",
    "\n",
    "Use the `np.iinfo` (for ints) and `np.finfo` (for floats) commands to see the limitations of some of these variable types, i.e. what do you get from `np.iinfo(np.int32)`?"
   ]
  },
  {
   "cell_type": "code",
   "execution_count": null,
   "metadata": {
    "deletable": false,
    "editable": false,
    "nbgrader": {
     "cell_type": "code",
     "checksum": "9965092d544efc2f1f916d5f9470ecb9",
     "grade": false,
     "grade_id": "cell-51b41d090c464ed0",
     "locked": true,
     "schema_version": 3,
     "solution": false
    }
   },
   "outputs": [],
   "source": [
    "import numpy as np"
   ]
  },
  {
   "cell_type": "markdown",
   "metadata": {
    "deletable": false,
    "editable": false,
    "nbgrader": {
     "cell_type": "markdown",
     "checksum": "73c87620273b989e30f4b443e59f68d0",
     "grade": false,
     "grade_id": "cell-5580f5f8c2915642",
     "locked": true,
     "schema_version": 3,
     "solution": false
    }
   },
   "source": [
    "See what happens when an upper or lower limit is exceeded. Try a few different types."
   ]
  },
  {
   "cell_type": "code",
   "execution_count": null,
   "metadata": {},
   "outputs": [],
   "source": [
    "x = np.array([125, 126, 127], dtype=np.int8)\n",
    "print(x)\n",
    "x += 1\n",
    "print(x)"
   ]
  },
  {
   "cell_type": "markdown",
   "metadata": {
    "deletable": false,
    "editable": false,
    "nbgrader": {
     "cell_type": "markdown",
     "checksum": "7ecee84c0a2f675981715624011af987",
     "grade": false,
     "grade_id": "cell-683ddf9c918eb860",
     "locked": true,
     "schema_version": 3,
     "solution": false
    }
   },
   "source": [
    "Floating point numbers have limited resolution; they can only store accurately \n",
    "certain number of digits.\n",
    "Try to add different numbers 1E-2, 1E-3, ..., 1E-8 to the array below\n",
    "and see the results, and observe when the addition stops being exact.\n",
    "Note that I had to manually specify float32, as by default numpy uses 64 bit floating points"
   ]
  },
  {
   "cell_type": "code",
   "execution_count": null,
   "metadata": {
    "deletable": false,
    "nbgrader": {
     "cell_type": "code",
     "checksum": "e74f1779c9390117c241ec578f59a367",
     "grade": false,
     "grade_id": "cell-8f2595c209ec9591",
     "locked": false,
     "schema_version": 3,
     "solution": true,
     "task": false
    }
   },
   "outputs": [],
   "source": [
    "y = np.array([1000, 100, 10, 1, 0.1], dtype=np.float32)\n",
    "\n",
    "print (y + np.array(1e-2, dtype=np.float32))\n",
    "\n",
    "# YOUR CODE HERE\n",
    "raise NotImplementedError()"
   ]
  },
  {
   "cell_type": "markdown",
   "metadata": {
    "deletable": false,
    "editable": false,
    "nbgrader": {
     "cell_type": "markdown",
     "checksum": "a64dc0497fb14b1966b70beca12543e8",
     "grade": false,
     "grade_id": "cell-fe2fd599b7b69d75",
     "locked": true,
     "schema_version": 3,
     "solution": false,
     "task": false
    }
   },
   "source": [
    "You can learn what is a typical precision you will get by using `np.finfo` function. \n",
    "Make sure you understand the precision, eps, min, max values. "
   ]
  },
  {
   "cell_type": "code",
   "execution_count": null,
   "metadata": {},
   "outputs": [],
   "source": [
    "print(np.finfo('float32'))\n",
    "print(np.finfo('float64'))"
   ]
  },
  {
   "cell_type": "markdown",
   "metadata": {
    "deletable": false,
    "editable": false,
    "nbgrader": {
     "cell_type": "markdown",
     "checksum": "fa33f38e8350de6c92cc0f172a1434a5",
     "grade": false,
     "grade_id": "cell-8aeff6a67c5d4e54",
     "locked": true,
     "schema_version": 3,
     "solution": false,
     "task": false
    }
   },
   "source": [
    "Using the `np.finfo` function to find out what is the number of significant digits\n",
    "the 128-bit floating point type can accurately represent."
   ]
  },
  {
   "cell_type": "code",
   "execution_count": null,
   "metadata": {
    "deletable": false,
    "nbgrader": {
     "cell_type": "code",
     "checksum": "498b1cfcb0769cb71d9b0f6033c0e006",
     "grade": false,
     "grade_id": "cell-9027ae72dcdff324",
     "locked": false,
     "schema_version": 3,
     "solution": true,
     "task": false
    }
   },
   "outputs": [],
   "source": [
    "# YOUR CODE HERE\n",
    "raise NotImplementedError()"
   ]
  },
  {
   "cell_type": "markdown",
   "metadata": {
    "deletable": false,
    "editable": false,
    "nbgrader": {
     "cell_type": "markdown",
     "checksum": "8df9217d0f81219af280acfc3e8a0936",
     "grade": false,
     "grade_id": "cell-63fea32361fb7d86",
     "locked": true,
     "schema_version": 3,
     "solution": false
    }
   },
   "source": [
    "## NumPy arrays: why bother?\n",
    "NumPy arrays can be manipulated all at once without having to explicitly iterate over each value. NumPy operations are also significantly faster."
   ]
  },
  {
   "cell_type": "code",
   "execution_count": null,
   "metadata": {
    "deletable": false,
    "editable": false,
    "nbgrader": {
     "cell_type": "code",
     "checksum": "5c2183ca00d101a22107ecd74c1e7a42",
     "grade": false,
     "grade_id": "cell-a8073cefe127bb09",
     "locked": true,
     "schema_version": 3,
     "solution": false
    }
   },
   "outputs": [],
   "source": [
    "import time\n",
    "# This is the module that has a lot of functions related to \n",
    "# time. I.e. sleeping a certain number of seconds, computing current time etc"
   ]
  },
  {
   "cell_type": "code",
   "execution_count": null,
   "metadata": {},
   "outputs": [],
   "source": [
    "# with lists\n",
    "t1 = time.time()\n",
    "\n",
    "z = list(range(10000000))\n",
    "for i in range(len(z)):\n",
    "    z[i] += 1\n",
    "\n",
    "t2 = time.time()\n",
    "print(\"That took %f seconds.\" % (t2-t1))"
   ]
  },
  {
   "cell_type": "code",
   "execution_count": null,
   "metadata": {},
   "outputs": [],
   "source": [
    "# with arrays\n",
    "t1 = time.time()\n",
    "\n",
    "za = np.arange(10000000)\n",
    "za += 1\n",
    "\n",
    "t2 = time.time()\n",
    "print(\"That took %f seconds.\" % (t2-t1))"
   ]
  },
  {
   "cell_type": "markdown",
   "metadata": {
    "deletable": false,
    "editable": false,
    "nbgrader": {
     "cell_type": "markdown",
     "checksum": "e77217ebf70df361b84ef14d3c965ea2",
     "grade": false,
     "grade_id": "cell-ab19dadb6f121db4",
     "locked": true,
     "schema_version": 3,
     "solution": false,
     "task": false
    }
   },
   "source": [
    "Numpy arrays are much faster than loops. It also requires less code. So USE numpy arrays!"
   ]
  },
  {
   "cell_type": "markdown",
   "metadata": {
    "deletable": false,
    "editable": false,
    "nbgrader": {
     "cell_type": "markdown",
     "checksum": "c9b487a083dedea81773ff6c4cca8bd7",
     "grade": false,
     "grade_id": "cell-aa98c8f93415dae1",
     "locked": true,
     "schema_version": 3,
     "solution": false
    }
   },
   "source": [
    "### Some useful NumPy array generator functions.\n",
    "\n",
    "* `np.arange`\n",
    "* `np.linspace`\n",
    "* `np.logspace`\n",
    "* `np.ones`, `np.ones_like`\n",
    "* `np.zeros`, `np.zeros_like`\n",
    "* `np.meshgrid`\n",
    "\n",
    "If unsure check documentation on numpy website or use \n",
    "? your_function to see the documentation\n",
    "\n",
    "### Challenge: make the following array in one line:\n",
    "```\n",
    "array([1.e-02, 2.e-01, 3.e+00, 4.e+01, 5.e+02])\n",
    "```\n",
    "(hint: you need to combine two functions listed above ) "
   ]
  },
  {
   "cell_type": "code",
   "execution_count": null,
   "metadata": {
    "deletable": false,
    "nbgrader": {
     "cell_type": "code",
     "checksum": "83458f106768305b46681432e35eb200",
     "grade": false,
     "grade_id": "cell-ee208c94dae78f48",
     "locked": false,
     "schema_version": 3,
     "solution": true,
     "task": false
    }
   },
   "outputs": [],
   "source": [
    "# YOUR CODE HERE\n",
    "raise NotImplementedError()"
   ]
  },
  {
   "cell_type": "markdown",
   "metadata": {
    "deletable": false,
    "editable": false,
    "nbgrader": {
     "cell_type": "markdown",
     "checksum": "3df06397f98c1782a1cbc24b746a48f5",
     "grade": false,
     "grade_id": "cell-c2843213e9ae9060",
     "locked": true,
     "schema_version": 3,
     "solution": false,
     "task": false
    }
   },
   "source": [
    "# Challenge \n",
    "\n",
    "Make a 2d array of with 7 identical rows [0,1,2,3,4,5,6,7,8,9] using np.meshgrid\n"
   ]
  },
  {
   "cell_type": "code",
   "execution_count": null,
   "metadata": {
    "deletable": false,
    "nbgrader": {
     "cell_type": "code",
     "checksum": "89c8804e48f31a10910f3816bb75a718",
     "grade": false,
     "grade_id": "cell-6d49c56f9e0095c2",
     "locked": false,
     "schema_version": 3,
     "solution": true,
     "task": false
    }
   },
   "outputs": [],
   "source": [
    "# YOUR CODE HERE\n",
    "raise NotImplementedError()"
   ]
  },
  {
   "cell_type": "markdown",
   "metadata": {},
   "source": [
    "# Numpy Indexing/slicing\n",
    "\n",
    "Here we will look at the basics of numpy indexes. \n",
    "\n",
    "We will start from creating a numpy array with elements [10, 20,30 , 40 .... 1000] \n",
    "\n",
    "Now use the numpy indexing and slicing https://numpy.org/doc/stable/user/basics.indexing.html#basics-indexing\n",
    "to print\n",
    "\n",
    "* The last element of an array\n",
    "* Every third element starting from the second one \n",
    "* Elements from tenth to twentith\n",
    "* Elements in reverse order\n",
    "* Every element of an array (using slicing)\n",
    "\n",
    "Remember in numpy indices start from 0."
   ]
  },
  {
   "cell_type": "code",
   "execution_count": null,
   "metadata": {
    "deletable": false,
    "nbgrader": {
     "cell_type": "code",
     "checksum": "15df8377519e532aff9d07ffd9d94446",
     "grade": false,
     "grade_id": "cell-db3670f0d1b6568f",
     "locked": false,
     "schema_version": 3,
     "solution": true,
     "task": false
    }
   },
   "outputs": [],
   "source": [
    "# YOUR CODE HERE\n",
    "raise NotImplementedError()"
   ]
  },
  {
   "cell_type": "markdown",
   "metadata": {
    "deletable": false,
    "editable": false,
    "nbgrader": {
     "cell_type": "markdown",
     "checksum": "39842574f4d259147c98a1b779c0895d",
     "grade": false,
     "grade_id": "cell-5cc4e7524445aa5c",
     "locked": true,
     "schema_version": 3,
     "solution": false,
     "task": false
    }
   },
   "source": [
    "# Indexing by integer arrays\n",
    "\n",
    "You can access an array with an array of integers to extract specific list of elements\n",
    "\n",
    "So if X is an array and Y is an integer array then `X[Y]` will be an array of values at indices specified by Y"
   ]
  },
  {
   "cell_type": "code",
   "execution_count": null,
   "metadata": {},
   "outputs": [],
   "source": [
    "### Main array\n",
    "x = np.array([1.1, 1.2, 1.3, 1.4, 1.5, 1.6])\n",
    "### Array of indices\n",
    "y = np.array([2, 3, 1])\n",
    "print(x[y])"
   ]
  },
  {
   "cell_type": "markdown",
   "metadata": {
    "deletable": false,
    "editable": false,
    "nbgrader": {
     "cell_type": "markdown",
     "checksum": "35bd795979a5905cb7fdccb21d2dff2c",
     "grade": false,
     "grade_id": "cell-f82b7b9b7d092b02",
     "locked": true,
     "schema_version": 3,
     "solution": false,
     "task": false
    }
   },
   "source": [
    "## Accessing subsets of arrays.\n",
    "\n",
    "You can use boolean arrays to index numpy arrays.\n",
    "\n",
    "I.e. if you have an array X and array of booleans Y of same length\n",
    "`X[Y]` will return the subset of X where Y is true\n",
    "\n",
    "Since the ~ operator when applied to boolean arrays is a NOT operator (i.e. it changes False ot True and True to False), if you want to return the subset of X where Y is not True this can be done with `X[~Y]`"
   ]
  },
  {
   "cell_type": "code",
   "execution_count": null,
   "metadata": {},
   "outputs": [],
   "source": [
    "x = np.arange(10)\n",
    "y = np.arange(10)**2\n",
    "z = np.sin(np.arange(10))\n",
    "\n",
    "print ('the whole z array', z)\n",
    "print ('the boolean mask', (x+y)<5)\n",
    "print ('the subset where x+y<5', z[(x+y)<5])\n",
    "print ('the subset where NOT x+y<5', z[~((x+y)<5)])\n"
   ]
  },
  {
   "cell_type": "markdown",
   "metadata": {
    "deletable": false,
    "editable": false,
    "nbgrader": {
     "cell_type": "markdown",
     "checksum": "4e3bb83e9547bd9fa2d340d756227c12",
     "grade": false,
     "grade_id": "cell-4e51ce97f84acf54",
     "locked": true,
     "schema_version": 3,
     "solution": false,
     "task": false
    }
   },
   "source": [
    "# Challenge \n",
    "\n",
    "Print the numbers from 1 to 100 where sin(x)+cos(x)>1.4"
   ]
  },
  {
   "cell_type": "code",
   "execution_count": null,
   "metadata": {
    "deletable": false,
    "nbgrader": {
     "cell_type": "code",
     "checksum": "4a232a76ce8d6571a067197d8fb34f3c",
     "grade": false,
     "grade_id": "cell-a79f4c041452c66a",
     "locked": false,
     "schema_version": 3,
     "solution": true,
     "task": false
    }
   },
   "outputs": [],
   "source": [
    "x=np.arange(1,101)\n",
    "\n",
    "# YOUR CODE HERE\n",
    "raise NotImplementedError()"
   ]
  },
  {
   "cell_type": "markdown",
   "metadata": {
    "deletable": false,
    "editable": false,
    "nbgrader": {
     "cell_type": "markdown",
     "checksum": "bed26b2cfc4295c6bbf53501b70c1bbc",
     "grade": false,
     "grade_id": "cell-77a3747424e93ca2",
     "locked": true,
     "schema_version": 3,
     "solution": false,
     "task": false
    }
   },
   "source": [
    "# Advantages of boolean arrays of indices\n",
    "\n",
    "The key benefit of using boolean arrays to deal with subsets of your arrays is that it is much easier to\n",
    "combined those subsets, as you can combine multiple subsets easily. \n"
   ]
  },
  {
   "cell_type": "code",
   "execution_count": null,
   "metadata": {},
   "outputs": [],
   "source": [
    "x = np.arange(10)\n",
    "subset1 = x<7\n",
    "print ('First subset', [subset1])\n",
    "subset2 = x>3\n",
    "print ('Second subset', x[subset2])\n",
    "subset3 = subset1 & subset2\n",
    "print ('Combination of subsets', x[subset3])"
   ]
  },
  {
   "cell_type": "markdown",
   "metadata": {},
   "source": [
    "# Multi-dimensional arrays \n",
    "\n",
    "You can construct them directly using `np.array`, `np.zeros`, `np.meshgrid` or by using \n",
    "calculations with one dimensional arrays and broadcasting https://numpy.org/devdocs/user/basics.broadcasting.html"
   ]
  },
  {
   "cell_type": "code",
   "execution_count": null,
   "metadata": {},
   "outputs": [],
   "source": [
    "print (np.array([[1, 2], [3, 4], [5, 6]]))\n",
    "print (np.zeros((4, 5)))"
   ]
  },
  {
   "cell_type": "markdown",
   "metadata": {},
   "source": [
    "# Array shapes\n",
    "\n",
    "Multi-dimensional arrays have shapes that describe their sizes.\n",
    "They can be accessed using .shape attribute. \n",
    "\n",
    "If an array has shape (3,5) you can think of it as an array of with 3 rows and 5 columns. \n",
    "To access i-th row and j-th column you need to use A[i,j]"
   ]
  },
  {
   "cell_type": "code",
   "execution_count": null,
   "metadata": {},
   "outputs": [],
   "source": [
    "# Array shapes \n",
    "x = np.arange(15).reshape(3,5)\n",
    "print(x.shape)\n",
    "print (x)\n",
    "print (x[1,2])"
   ]
  },
  {
   "cell_type": "markdown",
   "metadata": {
    "deletable": false,
    "editable": false,
    "nbgrader": {
     "cell_type": "markdown",
     "checksum": "5caa75c6e2ab5ed85fe3e7dedced831a",
     "grade": false,
     "grade_id": "cell-cd7a0f0541ed83bc",
     "locked": true,
     "schema_version": 3,
     "solution": false,
     "task": false
    }
   },
   "source": [
    "# Creating multi-D arrays on the grid\n",
    "\n",
    "A useful function is np.meshgrid. it allows you to create multi-dimensional grids/arrays. \n",
    "For example if you have an array or x coordinates [2,4,6] and array of y coordinates [1,3,5,7]\n",
    "This is how you can create the 2d array of coordinates on the grid"
   ]
  },
  {
   "cell_type": "code",
   "execution_count": null,
   "metadata": {},
   "outputs": [],
   "source": [
    "x = np.array([2, 4, 6])\n",
    "y = np.array([1, 3, 5, 7])\n",
    "X2d, Y2d = np.meshgrid(x,y)\n",
    "print(X2d)\n",
    "print(Y2d)"
   ]
  },
  {
   "cell_type": "markdown",
   "metadata": {
    "deletable": false,
    "editable": false,
    "nbgrader": {
     "cell_type": "markdown",
     "checksum": "fc1cb719977e51e01f4c2717a18eefe0",
     "grade": false,
     "grade_id": "cell-565e54f0894f4e52",
     "locked": true,
     "schema_version": 3,
     "solution": false,
     "task": false
    }
   },
   "source": [
    "Let's use meshgrid to define an array with size of 5 x 7 where i,j-th element is sin(i + 2 * j)"
   ]
  },
  {
   "cell_type": "code",
   "execution_count": null,
   "metadata": {},
   "outputs": [],
   "source": [
    "I,J = np.meshgrid(np.arange(5), np.arange(7))\n",
    "Z = np.sin(I + 2*J)\n",
    "print (Z)"
   ]
  },
  {
   "cell_type": "markdown",
   "metadata": {
    "deletable": false,
    "editable": false,
    "nbgrader": {
     "cell_type": "markdown",
     "checksum": "094fd7d9a1f23c2f518ecfb15c270b57",
     "grade": false,
     "grade_id": "cell-3ef4e1cc649fbf04",
     "locked": true,
     "schema_version": 3,
     "solution": false,
     "task": false
    }
   },
   "source": [
    "# Broadcasting\n",
    "\n",
    "Broadcasting is an important concept where you can do numpy operations\n",
    "with arrays of different shapes and then numpy will either automatically or \n",
    "with some 'guidance' will 'broadcast' smaller arrays to the shape of larger \n",
    "array."
   ]
  },
  {
   "cell_type": "markdown",
   "metadata": {
    "deletable": false,
    "editable": false,
    "nbgrader": {
     "cell_type": "markdown",
     "checksum": "fcff523598df15157f2d80c542e89a54",
     "grade": false,
     "grade_id": "cell-42577d8be31924bc",
     "locked": true,
     "schema_version": 3,
     "solution": false,
     "task": false
    }
   },
   "source": [
    "Now let's try to construct an array using a broadcasting approach. \n",
    "\n",
    "If we want an array of 4x5 where i,j-th element is i^3 * j^2 and 0<i<4 0<j<5 \n",
    "\n",
    "If we try this\n",
    "\n",
    "`\n",
    "x=np.arange(4)\n",
    "y=np.arange(5)\n",
    "x**3 * y**2\n",
    "`\n",
    "\n",
    "it will not work because we can't combine arrays of different lengths."
   ]
  },
  {
   "cell_type": "code",
   "execution_count": null,
   "metadata": {
    "deletable": false,
    "editable": false,
    "nbgrader": {
     "cell_type": "code",
     "checksum": "0d3d1c987f759480c645c2d4fbb73425",
     "grade": false,
     "grade_id": "cell-604aebad49e2983d",
     "locked": true,
     "schema_version": 3,
     "solution": false,
     "task": false
    }
   },
   "outputs": [],
   "source": [
    "x = np.arange(4)\n",
    "y = np.arange(5)"
   ]
  },
  {
   "cell_type": "markdown",
   "metadata": {
    "deletable": false,
    "editable": false,
    "nbgrader": {
     "cell_type": "markdown",
     "checksum": "5431c2c1bb6c8f031aefffeb7bace6c1",
     "grade": false,
     "grade_id": "cell-0a2ac4cc0f3b90ce",
     "locked": true,
     "schema_version": 3,
     "solution": false,
     "task": false
    }
   },
   "source": [
    "However if you use a special syntax to introduce dimensions of size 1, you should be able to do it\n",
    "I.e. \n",
    "`x[:, np.newaxis]` will make an array with the shape (4,1)\n",
    "while the `y[np.newaxis, : ]` will make an array of shape (1,5) \n",
    "after that you should be able to multiply the arrays and that will make a 4x5 array."
   ]
  },
  {
   "cell_type": "code",
   "execution_count": null,
   "metadata": {},
   "outputs": [],
   "source": [
    "print(x[:,np.newaxis]**3 * y[np.newaxis,:]**2)"
   ]
  },
  {
   "cell_type": "markdown",
   "metadata": {
    "deletable": false,
    "editable": false,
    "nbgrader": {
     "cell_type": "markdown",
     "checksum": "f68e41aee2e82b0af8c630ce2de7a848",
     "grade": false,
     "grade_id": "cell-420c9590c155a118",
     "locked": true,
     "schema_version": 3,
     "solution": false,
     "task": false
    }
   },
   "source": [
    "# Array reshaping\n",
    "\n",
    "* If we want to change the shape of the array arr, you can use arr.T to transpose it\n",
    "* We can use arr.flatten() to convert an array to 1d \n",
    "* Or you can use .reshape() method to change an array to a different shape with the same number of elements"
   ]
  },
  {
   "cell_type": "code",
   "execution_count": null,
   "metadata": {},
   "outputs": [],
   "source": [
    "x = np.array([[1,2],[3,4],[5,6]])\n",
    "print(x)\n",
    "print('Transposed array', x.T)\n",
    "print('flattened array into 1d', x.flatten())\n",
    "print('Array reshaped to 6x1', x.reshape(6,1))\n",
    "print('the shape of the array', x.shape)\n"
   ]
  },
  {
   "cell_type": "markdown",
   "metadata": {
    "deletable": false,
    "editable": false,
    "nbgrader": {
     "cell_type": "markdown",
     "checksum": "9bde0dab0451056ef13fb086c9a92da6",
     "grade": false,
     "grade_id": "cell-2bef0a04fd15262e",
     "locked": true,
     "schema_version": 3,
     "solution": false,
     "task": false
    }
   },
   "source": [
    "# Combining arrays\n",
    "\n",
    "We can also combine several arrays into a larger arrays using `np.concatenate`, `np.tile`, `np.array`, `np.repeat`"
   ]
  },
  {
   "cell_type": "code",
   "execution_count": null,
   "metadata": {},
   "outputs": [],
   "source": [
    "x = np.arange(5)\n",
    "y = np.arange(5)\n",
    "\n",
    "# this creates 2x5 array\n",
    "print (np.array([x, y]))\n",
    "# This creates 1x10 array\n",
    "print (np.concatenate((x, y)))"
   ]
  },
  {
   "cell_type": "markdown",
   "metadata": {
    "deletable": false,
    "editable": false,
    "nbgrader": {
     "cell_type": "markdown",
     "checksum": "66de2e81528643cf412f0c48025f2d7a",
     "grade": false,
     "grade_id": "cell-d8dc969b6f18b558",
     "locked": true,
     "schema_version": 3,
     "solution": false
    }
   },
   "source": [
    "## Basic Plotting\n",
    "Basic plots can be made using high level commands imported from the `matplotlib.pyplot` module. Some basic plotting commands are given below (assuming the following import `from matplotlib import pyplot as plt`).\n",
    "\n",
    "Useful plotting commands:\n",
    "* `plt.plot`\n",
    "* `plt.semilogx`, `plt.semilogy`\n",
    "* `plt.loglog`\n",
    "* `plt.scatter`\n",
    "* `plt.xlim`, `plt.ylim`\n",
    "* `plt.xlabel`, `plt.ylabel`\n",
    "* `plt.legend`\n",
    "* `plt.title`\n",
    "* `plt.xscale`, `plt.yscale`\n",
    "* `plt.show`\n",
    "\n",
    "Use the `help` function for more information on each.\n",
    "\n",
    "See [here](https://matplotlib.org/api/pyplot_summary.html) for a list of all plotting commands \n",
    "\n",
    "See [here](https://matplotlib.org/stable/plot_types/index.html) for list of all possible types of plots.\n",
    "\n",
    "**When making plots for checkpoints, always label the axes. Make them look nice.**"
   ]
  },
  {
   "cell_type": "markdown",
   "metadata": {
    "deletable": false,
    "editable": false,
    "nbgrader": {
     "cell_type": "markdown",
     "checksum": "5fa82b4987c30b11542d640cba6cc2fa",
     "grade": false,
     "grade_id": "cell-4d0b613332d24d26",
     "locked": true,
     "schema_version": 3,
     "solution": false
    }
   },
   "source": [
    "### Plotting a Gaussian distribution.\n",
    "\n",
    "A Gaussian distribution with mean, $\\mu$, and variance, $\\sigma^2$, takes the form:\n",
    "\n",
    "$\n",
    "\\begin{align}\n",
    "\\Large\n",
    "f(x) = \\frac{1}{\\sqrt{2\\pi\\sigma^{2}}} e^{-\\frac{(x - \\mu)^2}{2\\sigma^{2}}}\n",
    "\\end{align}\n",
    "$\n",
    "\n",
    "In the cell below, write a function that accepts an array of values, `x`, and returns an array representing the Gaussian evaluated for all points in `x`. Note, the text in between the `\"\"\"` marks is called a \"docstring\". See what happens when you do `help(my_gaussian)`."
   ]
  },
  {
   "cell_type": "code",
   "execution_count": null,
   "metadata": {
    "deletable": false,
    "nbgrader": {
     "cell_type": "code",
     "checksum": "25bc909eaa99fb7b7350e8649ff8f7c3",
     "grade": false,
     "grade_id": "cell-60dc027608ded4c0",
     "locked": false,
     "schema_version": 3,
     "solution": true
    }
   },
   "outputs": [],
   "source": [
    "def my_gaussian(x, mu=0, sigma=1):\n",
    "    \"\"\"\n",
    "    Compute the Gaussian function.\n",
    "    \n",
    "    Parameters\n",
    "    ----------\n",
    "    x : float or array\n",
    "        A single value or an array of values for which the Gaussian will be evaluated.\n",
    "    mu : optional, float\n",
    "        mean of the Gaussian distribution\n",
    "    sigma : optional, float\n",
    "        square root of the variance of the Gaussian distribution\n",
    "        \n",
    "    Returns\n",
    "    -------\n",
    "    y : array\n",
    "        values of the Gaussian distribution for all values of x\n",
    "    \"\"\"\n",
    "    # First, delete the line that says \"raise NotImplementedError\"\n",
    "# YOUR CODE HERE\n",
    "raise NotImplementedError()"
   ]
  },
  {
   "cell_type": "markdown",
   "metadata": {},
   "source": [
    "### Test your function.\n",
    "\n",
    "Run the cell below to test your function with a few values."
   ]
  },
  {
   "cell_type": "code",
   "execution_count": null,
   "metadata": {
    "deletable": false,
    "editable": false,
    "nbgrader": {
     "cell_type": "code",
     "checksum": "557ed7d7299f060af656950c8a83a59d",
     "grade": true,
     "grade_id": "cell-b2673774124214e2",
     "locked": true,
     "points": 0,
     "schema_version": 3,
     "solution": false
    }
   },
   "outputs": [],
   "source": [
    "assert (abs(my_gaussian(0) - 0.3989422804014327) < 1e-7)\n",
    "assert (abs(my_gaussian(1) - 0.24197072451914337) < 1e-7)"
   ]
  },
  {
   "cell_type": "code",
   "execution_count": null,
   "metadata": {
    "deletable": false,
    "editable": false,
    "nbgrader": {
     "cell_type": "code",
     "checksum": "343f872315b9901e7ca1b0a24deea165",
     "grade": false,
     "grade_id": "cell-f2942bafb397f886",
     "locked": true,
     "schema_version": 3,
     "solution": false
    }
   },
   "outputs": [],
   "source": [
    "### Some matplotlib imports\n",
    "from matplotlib import pyplot as plt\n",
    "%matplotlib inline"
   ]
  },
  {
   "cell_type": "markdown",
   "metadata": {
    "deletable": false,
    "editable": false,
    "nbgrader": {
     "cell_type": "markdown",
     "checksum": "150075f82fe52893d3b01a2d87fdf8df",
     "grade": false,
     "grade_id": "cell-5050532b447f508d",
     "locked": true,
     "schema_version": 3,
     "solution": false,
     "task": false
    }
   },
   "source": [
    "### Set some plotting defaults.\n",
    "\n",
    "The lines below can be used to set some sensible defaults for all of your basic plots. You can put these at the top of a notebook."
   ]
  },
  {
   "cell_type": "code",
   "execution_count": null,
   "metadata": {
    "deletable": false,
    "editable": false,
    "nbgrader": {
     "cell_type": "code",
     "checksum": "79de1e39e1b972ea265dc26d06d7dedb",
     "grade": false,
     "grade_id": "cell-3a6a2acc13602956",
     "locked": true,
     "schema_version": 3,
     "solution": false
    }
   },
   "outputs": [],
   "source": [
    "plt.rcParams['figure.figsize'] = (10, 6) # inches\n",
    "plt.rcParams['font.size'] = 14"
   ]
  },
  {
   "cell_type": "markdown",
   "metadata": {
    "deletable": false,
    "editable": false,
    "nbgrader": {
     "cell_type": "markdown",
     "checksum": "f357dd278953a1174dc67c9b5501372a",
     "grade": false,
     "grade_id": "cell-1a7f389de671ed31",
     "locked": true,
     "schema_version": 3,
     "solution": false,
     "task": false
    }
   },
   "source": [
    "### Plot the Gaussian distribution.\n",
    "\n",
    "\n",
    "Make a plot of this function over the range [-5, 5] for a couple values of $\\mu$ and $\\sigma$ with appropriate labels and a legend. Hint, the `label` keyword can be given to the plotting commands to aid in making the legend. Try different combinations of linear and log-space plots."
   ]
  },
  {
   "cell_type": "code",
   "execution_count": null,
   "metadata": {
    "deletable": false,
    "nbgrader": {
     "cell_type": "code",
     "checksum": "feb835025fba5b88fe4afd90abfe47d5",
     "grade": false,
     "grade_id": "cell-dc6a6ad75c5d8fc8",
     "locked": false,
     "schema_version": 3,
     "solution": true,
     "task": false
    }
   },
   "outputs": [],
   "source": [
    "x = np.linspace(-5, 5, 1000)\n",
    "\n",
    "# YOUR CODE HERE\n",
    "raise NotImplementedError()"
   ]
  },
  {
   "cell_type": "markdown",
   "metadata": {
    "deletable": false,
    "editable": false,
    "nbgrader": {
     "cell_type": "markdown",
     "checksum": "26d1f2dae75650ce352ea1ad9ca10b93",
     "grade": false,
     "grade_id": "cell-eba93db629b13883",
     "locked": true,
     "schema_version": 3,
     "solution": false,
     "task": false
    }
   },
   "source": [
    "## Two dimensional plots \n",
    "Lets show a two dimensional plot of the \n",
    "\n",
    "$z=(x^2+y^2)$\n",
    "\n",
    "function \n",
    "with color indicating the value of z\n",
    "\n",
    "This can be done with the help of `plt.imshow` function\n",
    "\n",
    "Lets start by generating a grid of x,y values with the help of np.meshgrid function"
   ]
  },
  {
   "cell_type": "code",
   "execution_count": null,
   "metadata": {},
   "outputs": [],
   "source": [
    "# This is now the grid in x from 0 2 and y from 0 to 1 with steps of 0.1\n",
    "x,y = np.meshgrid(np.arange(0,2,0.1),np.arange(0,1,.1))"
   ]
  },
  {
   "cell_type": "code",
   "execution_count": null,
   "metadata": {},
   "outputs": [],
   "source": [
    "# This is our x\n",
    "plt.imshow(x)"
   ]
  },
  {
   "cell_type": "markdown",
   "metadata": {
    "deletable": false,
    "editable": false,
    "nbgrader": {
     "cell_type": "markdown",
     "checksum": "eda124abfbe669253cb546362fd52751",
     "grade": false,
     "grade_id": "cell-49f06b356904991c",
     "locked": true,
     "schema_version": 3,
     "solution": false,
     "task": false
    }
   },
   "source": [
    "### Lets add a colour bar"
   ]
  },
  {
   "cell_type": "code",
   "execution_count": null,
   "metadata": {},
   "outputs": [],
   "source": [
    "plt.imshow(x)\n",
    "plt.colorbar()"
   ]
  },
  {
   "cell_type": "markdown",
   "metadata": {
    "deletable": false,
    "editable": false,
    "nbgrader": {
     "cell_type": "markdown",
     "checksum": "027f8d24c3cb33bc5615a3296fa980fd",
     "grade": false,
     "grade_id": "cell-7cab3a8d6c71c11f",
     "locked": true,
     "schema_version": 3,
     "solution": false,
     "task": false
    }
   },
   "source": [
    "## Important imshow options\n",
    "\n",
    "* aspect -- controls the aspect ratio\n",
    "* origin  can be 'lower' or 'upper' controls where the [0,0] element array will \n",
    "be in the lower left or upper left corner\n",
    "* extent -- controls the axis range \n",
    "\n",
    "In the example below we plot the behaviour of $x^2+y^2$ function"
   ]
  },
  {
   "cell_type": "code",
   "execution_count": null,
   "metadata": {},
   "outputs": [],
   "source": [
    "plt.imshow(x**2 + y**2, aspect='auto', extent=(0,2,0,1),origin='lower')\n",
    "plt.colorbar()"
   ]
  },
  {
   "cell_type": "markdown",
   "metadata": {
    "deletable": false,
    "editable": false,
    "nbgrader": {
     "cell_type": "markdown",
     "checksum": "c7e52b2bd03b9fbda09cceb6e2d3afc5",
     "grade": false,
     "grade_id": "cell-b0ff6290902e649a",
     "locked": true,
     "schema_version": 3,
     "solution": false,
     "task": false
    }
   },
   "source": [
    "# Interpolation\n"
   ]
  },
  {
   "cell_type": "markdown",
   "metadata": {
    "deletable": false,
    "editable": false,
    "nbgrader": {
     "cell_type": "markdown",
     "checksum": "599145acf1b766cf8bfc5ad6de6d263f",
     "grade": false,
     "grade_id": "cell-49cf2a7e4c2ec0bb",
     "locked": true,
     "schema_version": 3,
     "solution": false,
     "task": false
    }
   },
   "source": [
    "## Lets implement a simple version of the linear interpolation\n",
    "\n",
    "We will write a simple function that implement the linear interpolation algorith from the lecture (without relying on scipy.interpolate)\n",
    "\n",
    "For this we will need two functions `np.argsort` that returns indices to sort the array\n",
    "and `np.searchsorted` that performs fast search in a sorted array"
   ]
  },
  {
   "cell_type": "code",
   "execution_count": null,
   "metadata": {
    "deletable": false,
    "nbgrader": {
     "cell_type": "code",
     "checksum": "5056d4017de9ad21c47dfc7879827b18",
     "grade": false,
     "grade_id": "cell-8d629e71bb30232a",
     "locked": false,
     "schema_version": 3,
     "solution": true,
     "task": false
    }
   },
   "outputs": [],
   "source": [
    "def lininterp(X, Y, xnew):\n",
    "    \"\"\"\n",
    "    This function does linear interpolation of Y over X and evaluates it \n",
    "    on an array xnew. The input X does not have to be sorted\n",
    "    \n",
    "    Arguments:\n",
    "    X numpy array\n",
    "    Y numpy array \n",
    "    xnew numpy array\n",
    "    \n",
    "    Returns\n",
    "    ynew numpy array\n",
    "         Array with the results of interpolation evaluated at xnew\n",
    "    \"\"\"\n",
    "    ind = np.argsort(X)\n",
    "    # indices to sort the array of Xs\n",
    "# YOUR CODE HERE\n",
    "raise NotImplementedError()\n",
    "    return Ynew\n"
   ]
  },
  {
   "cell_type": "markdown",
   "metadata": {
    "deletable": false,
    "editable": false,
    "nbgrader": {
     "cell_type": "markdown",
     "checksum": "c89201162076131a1a9c45b6dc5f771c",
     "grade": false,
     "grade_id": "cell-ca93c9b949cbe17c",
     "locked": true,
     "schema_version": 3,
     "solution": false,
     "task": false
    }
   },
   "source": [
    "Now let's check our implementation on a linear function y=3*x\n",
    "If your code is correct the output from your interpolation should match expected output"
   ]
  },
  {
   "cell_type": "code",
   "execution_count": null,
   "metadata": {
    "deletable": false,
    "editable": false,
    "nbgrader": {
     "cell_type": "code",
     "checksum": "3d71fb848523146ffc0c675a3bc82594",
     "grade": false,
     "grade_id": "cell-c7ad70533841e98c",
     "locked": true,
     "schema_version": 3,
     "solution": false,
     "task": false
    }
   },
   "outputs": [],
   "source": [
    "# Input data\n",
    "xinput = np.array([0,1,2,3,5,10,9,8,7,6])\n",
    "yinput = 3 * xinput\n",
    "\n",
    "# We will evaluate our interpolation function on this array\n",
    "xeval = np.array([2.5, 9.1, .1])\n",
    "\n",
    "ypred = lininterp(xinput, yinput, xeval)\n",
    "print ('Your interpolation', ypred)\n",
    "print ('The expected output', xeval*3)\n",
    "assert ((ypred == xeval*3).all())"
   ]
  },
  {
   "cell_type": "markdown",
   "metadata": {
    "deletable": false,
    "editable": false,
    "nbgrader": {
     "cell_type": "markdown",
     "checksum": "a8583c3dfb9c61f288da710dfcb0da39",
     "grade": false,
     "grade_id": "cell-c34dfb5ba93b8a37",
     "locked": true,
     "schema_version": 3,
     "solution": false,
     "task": false
    }
   },
   "source": [
    "How will the function behave if xnew is outside our interpolation range ? \n",
    "\n",
    "Modify the function to return edge values if input values is outside the range of interpolated data.\n",
    "The functions `np.maximum`/`np.minimum` or `np.clip` can be useful "
   ]
  },
  {
   "cell_type": "code",
   "execution_count": null,
   "metadata": {
    "deletable": false,
    "nbgrader": {
     "cell_type": "code",
     "checksum": "6bdea0b4aacf6075d7078eef0b39bb83",
     "grade": false,
     "grade_id": "cell-e821d602f8e8dc94",
     "locked": false,
     "schema_version": 3,
     "solution": true,
     "task": false
    }
   },
   "outputs": [],
   "source": [
    "def lininterp_edge(X, Y, xnew):\n",
    "    \"\"\"\n",
    "    This function does linear interpolation of Y over X and\n",
    "    evaluates on an array xnew. It also correctly deals with the \n",
    "    situation when xnew contains points outside the range covered by X\n",
    "    \"\"\"\n",
    "# YOUR CODE HERE\n",
    "raise NotImplementedError()\n",
    "    return Ynew\n"
   ]
  },
  {
   "cell_type": "markdown",
   "metadata": {
    "deletable": false,
    "editable": false,
    "nbgrader": {
     "cell_type": "markdown",
     "checksum": "917aca5713c8dae427da12f12a0fb440",
     "grade": false,
     "grade_id": "cell-a262789ff3b89e2a",
     "locked": true,
     "schema_version": 3,
     "solution": false,
     "task": false
    }
   },
   "source": [
    "Now let's compare our implementation with the one in python\n",
    "`scipy.interpolate.interp1d`\n",
    "The curves in the plot below should match exactly"
   ]
  },
  {
   "cell_type": "code",
   "execution_count": null,
   "metadata": {
    "deletable": false,
    "editable": false,
    "nbgrader": {
     "cell_type": "code",
     "checksum": "67b8b5d4b1dec784590e659136434e45",
     "grade": false,
     "grade_id": "cell-07cf2081f3a6d8d0",
     "locked": true,
     "schema_version": 3,
     "solution": false,
     "task": false
    }
   },
   "outputs": [],
   "source": [
    "import scipy.interpolate"
   ]
  },
  {
   "cell_type": "code",
   "execution_count": null,
   "metadata": {},
   "outputs": [],
   "source": [
    "xs = np.arange(10) ** 1.2\n",
    "ys = np.sin(xs)\n",
    "xgrid = np.linspace(0,12,1000)\n",
    "plt.plot(xs, ys)\n",
    "plt.plot(xgrid, lininterp_edge(xs, ys, xgrid), 'r', label='Our implementation')\n",
    "plt.plot(xgrid, scipy.interpolate.interp1d(xs, ys)(xgrid), 'b', label='scipy', alpha=0.3)\n",
    "plt.legend()"
   ]
  },
  {
   "cell_type": "markdown",
   "metadata": {
    "deletable": false,
    "editable": false,
    "nbgrader": {
     "cell_type": "markdown",
     "checksum": "088d4589408f503f12dc89d0335ce7ed",
     "grade": false,
     "grade_id": "cell-ac7ad55bbbf9d555",
     "locked": true,
     "schema_version": 3,
     "solution": false,
     "task": false
    }
   },
   "source": [
    "# Spline interpolation\n",
    "\n",
    "Now we can look at the at the cubic spline interpolations\n",
    "\n",
    "Those are implemented in `scipy.interpolate.CubicSpline`, `scipy.interpolate.UnivariateSpline` and others\n",
    "\n",
    "Lets create a simple Cubic interpolator between two arrays (that will mimick the square root function)\n",
    "\n",
    "[1,2,3,4,5,6,7,8] and [1, sqrt(2), sqrt(3), sqrt(4), sqrt(5), sqrt(6), sqrt(7), sqrt(8)]"
   ]
  },
  {
   "cell_type": "code",
   "execution_count": null,
   "metadata": {},
   "outputs": [],
   "source": [
    "x = np.arange(9) + 1\n",
    "y = np.sqrt(x)\n",
    "SplineInt = scipy.interpolate.CubicSpline(x, y)"
   ]
  },
  {
   "cell_type": "markdown",
   "metadata": {
    "deletable": false,
    "editable": false,
    "nbgrader": {
     "cell_type": "markdown",
     "checksum": "0211dd645de0831dd18b054c4f09204b",
     "grade": false,
     "grade_id": "cell-e41901a6d8469de1",
     "locked": true,
     "schema_version": 3,
     "solution": false,
     "task": false
    }
   },
   "source": [
    "# Challenge\n",
    "\n",
    "Plot the input data and overplot the spline evaluated on the grid of values from from 1 to 9"
   ]
  },
  {
   "cell_type": "code",
   "execution_count": null,
   "metadata": {
    "deletable": false,
    "nbgrader": {
     "cell_type": "code",
     "checksum": "47cc20878712db4c0c82b342520ceece",
     "grade": false,
     "grade_id": "cell-628d2a12ac40faf6",
     "locked": false,
     "schema_version": 3,
     "solution": true,
     "task": false
    }
   },
   "outputs": [],
   "source": [
    "# YOUR CODE HERE\n",
    "raise NotImplementedError()"
   ]
  },
  {
   "cell_type": "markdown",
   "metadata": {
    "deletable": false,
    "editable": false,
    "nbgrader": {
     "cell_type": "markdown",
     "checksum": "9720d8aaf53a9afe0e635cead5bf3100",
     "grade": false,
     "grade_id": "cell-8d81055793c97538",
     "locked": true,
     "schema_version": 3,
     "solution": false,
     "task": false
    }
   },
   "source": [
    "Please show the derivative of the interpolator in the range 1<x<8\n",
    "Use the .derivative method of the interpolator."
   ]
  },
  {
   "cell_type": "code",
   "execution_count": null,
   "metadata": {
    "deletable": false,
    "nbgrader": {
     "cell_type": "code",
     "checksum": "6d0c4b7df4e3c4beedfd452add73c42a",
     "grade": false,
     "grade_id": "cell-f2acfb0237077747",
     "locked": false,
     "schema_version": 3,
     "solution": true,
     "task": false
    }
   },
   "outputs": [],
   "source": [
    "# YOUR CODE HERE\n",
    "raise NotImplementedError()"
   ]
  },
  {
   "cell_type": "markdown",
   "metadata": {
    "deletable": false,
    "editable": false,
    "nbgrader": {
     "cell_type": "markdown",
     "checksum": "04853864030109fd56f041d342955416",
     "grade": false,
     "grade_id": "cell-2bec56f919faeedd",
     "locked": true,
     "schema_version": 3,
     "solution": false,
     "task": false
    }
   },
   "source": [
    "# Smoothing splines\n",
    "\n",
    "Some interpolation methods allow interpolation functions that do not go through \n",
    "all the data, but instead perform additional smoothing.\n",
    "\n",
    "This can be done with `scipy.interpolate.UnivariateSpline`"
   ]
  },
  {
   "cell_type": "code",
   "execution_count": null,
   "metadata": {},
   "outputs": [],
   "source": [
    "xdat1 = np.r_[1, 2, 3, 4, 5, 6, 7, 8, 9.98, 10, 11, 12, 13, 14, 15, 16, 17, 18,\n",
    "              19, 20, 21, 22, 23, 24, 25, 26, 27, 28, 29, 30]\n",
    "ydat1 = np.r_[0.07, -0.26, 0.96, 1.37, 1.42, 0.53, 0.16, -0.60, -0.53, -0.83,\n",
    "              -0.93, 0.00, -0.00, 0.23, 1.30, 0.84, 0.63, 0.92, 0.47, 0.50,\n",
    "              -0.25, -0.80, -1.22, -1.08, -0.48, 0.34, 0.39, 0.99, 1.28, 1.01]\n",
    "plt.plot(xdat1, ydat1, '.')\n",
    "plt.title('Data')"
   ]
  },
  {
   "cell_type": "markdown",
   "metadata": {
    "deletable": false,
    "editable": false,
    "nbgrader": {
     "cell_type": "markdown",
     "checksum": "10df17602962fdb57e5e444adc2a224e",
     "grade": false,
     "grade_id": "cell-632b47dcf6b9be75",
     "locked": true,
     "schema_version": 3,
     "solution": false,
     "task": false
    }
   },
   "source": [
    "Now trying smoothing splines `scipy.interpolate.UnivariateSpline` with different values of smoothing parameter"
   ]
  },
  {
   "cell_type": "code",
   "execution_count": null,
   "metadata": {},
   "outputs": [],
   "source": [
    "xgrid = np.linspace(1,30,1000)\n",
    "plt.plot(xdat1, ydat1, '.')\n",
    "SplineInt10 = scipy.interpolate.UnivariateSpline(xdat1, ydat1, s=10)\n",
    "SplineInt_001 = scipy.interpolate.UnivariateSpline(xdat1, ydat1, s=.0001)\n",
    "\n",
    "plt.plot(xgrid, SplineInt10(xgrid),label='Smoothing size 1')\n",
    "plt.plot(xgrid, SplineInt_001(xgrid),label='Smoothing size 0.0001')\n",
    "plt.legend()"
   ]
  },
  {
   "cell_type": "markdown",
   "metadata": {},
   "source": [
    "# Challenge \n",
    "\n",
    "Try to vary the smoothing parameter. Choose the one that you think works best. Plot the result."
   ]
  },
  {
   "cell_type": "code",
   "execution_count": null,
   "metadata": {
    "deletable": false,
    "nbgrader": {
     "cell_type": "code",
     "checksum": "e4808b2060ba4a1d03536f0f4cf07289",
     "grade": false,
     "grade_id": "cell-ec4510be590b6598",
     "locked": false,
     "schema_version": 3,
     "solution": true,
     "task": false
    }
   },
   "outputs": [],
   "source": [
    "# YOUR CODE HERE\n",
    "raise NotImplementedError()\n"
   ]
  },
  {
   "cell_type": "markdown",
   "metadata": {},
   "source": [
    "## How can we decide which interpolation is better ? \n",
    "\n",
    "We can use the cross-validation method\n",
    "We can split the data into two (or more) subsets  \n",
    "We can interpolate the over the part of the data and evaluate the square deviation of the prediction \n",
    "over the left-over part."
   ]
  },
  {
   "cell_type": "code",
   "execution_count": null,
   "metadata": {},
   "outputs": [],
   "source": [
    "def evaluate_predictitions_spline(x, y):\n",
    "    \"\"\"\n",
    "    Here we test the predictive abilities of the spline \n",
    "    By splitting the data into 3 chunks and returning the \n",
    "    mean square deviations for a given interpolator\n",
    "    \"\"\"\n",
    "    nsplit = 3 \n",
    "    N = len(x)\n",
    "    pos = np.arange(len(x))\n",
    "    ret = 0 \n",
    "    for i in range(nsplit):\n",
    "        testsubset = pos%nsplit ==i \n",
    "        fitsubset = ~testsubset \n",
    "        curx = x[fitsubset]\n",
    "        cury = y[fitsubset]\n",
    "        testx = x[testsubset]\n",
    "        testy = y[testsubset]\n",
    "        Int = scipy.interpolate.UnivariateSpline(curx, cury, s=.2)\n",
    "        ret = ret + np.mean((Int(testx) - testy)**2)\n",
    "    ret =ret/nsplit\n",
    "    return ret\n",
    "\n",
    "print ('Mean square error', evaluate_predictitions_spline(xdat1,ydat1))"
   ]
  },
  {
   "cell_type": "markdown",
   "metadata": {
    "deletable": false,
    "editable": false,
    "nbgrader": {
     "cell_type": "markdown",
     "checksum": "2d4c158a18353861fc506796dceb664e",
     "grade": false,
     "grade_id": "cell-e8c79cc3e31d89ab",
     "locked": true,
     "schema_version": 3,
     "solution": false,
     "task": false
    }
   },
   "source": [
    "# Multivariate Interpolation (optional)"
   ]
  },
  {
   "cell_type": "markdown",
   "metadata": {
    "deletable": false,
    "editable": false,
    "nbgrader": {
     "cell_type": "markdown",
     "checksum": "1c5fe3903c4bc080c51120fc93df67ff",
     "grade": false,
     "grade_id": "cell-66b9a817fb70818e",
     "locked": true,
     "schema_version": 3,
     "solution": false,
     "task": false
    }
   },
   "source": [
    "Here we explore multi-variate interpolation.\n",
    "\n",
    "Importantly the interpolator classes accept two arguments, one is an array of N-dimensional coordinates and another is 1-D array of values.\n",
    "\n",
    "For example \n",
    "\n",
    "`scipy.interpolate.LinearNDInterpolator(\n",
    "            np.array([[1,3], [3,4], [1,2], [5,6]]), \n",
    "            np.array([13, 14, 15, 16]))`\n",
    "            \n",
    "\n",
    "When passing input arrays to these interpolators you may need to reshape them "
   ]
  },
  {
   "cell_type": "markdown",
   "metadata": {
    "deletable": false,
    "editable": false,
    "nbgrader": {
     "cell_type": "markdown",
     "checksum": "ee8f8c0d0b768a983afd1413b990ea84",
     "grade": false,
     "grade_id": "cell-ffb2245f5ee0149d",
     "locked": true,
     "schema_version": 3,
     "solution": false,
     "task": false
    }
   },
   "source": [
    "For this test we define input data as an array defined on a grid of step 1 from 0 to 9 in x and y \n",
    "and `z = sin(x+2*y)`\n",
    "\n",
    "Wee then show the results of interpolation of z on a grid with the step of 0.1\n",
    "`scipy.interpolate.LinearNDInterpolator` and `scipy.interpolate.NearestNDInterpolator` and \n",
    "`scipy.interpolate.RbfInterpolator`"
   ]
  },
  {
   "cell_type": "code",
   "execution_count": null,
   "metadata": {},
   "outputs": [],
   "source": [
    "x,y = np.meshgrid(np.linspace(0,10,20),np.linspace(0,10,20))\n",
    "z = np.sin(x + 2*y)\n",
    "\n",
    "# this is an array with the shape 2,X \n",
    "X2D = np.array([x.flatten(), y.flatten()]).T  \n",
    "\n",
    "print ('The shape of the input array is ', X2D.shape)\n",
    "\n",
    "LinNDInt = scipy.interpolate.LinearNDInterpolator(X2D, z.flatten())\n",
    "xgrid, ygrid = np.meshgrid(np.linspace(0,10,100),np.linspace(0,10,100))\n",
    "\n",
    "IntPred = LinNDInt(xgrid, ygrid)\n",
    "plt.imshow(IntPred)"
   ]
  },
  {
   "cell_type": "markdown",
   "metadata": {},
   "source": [
    "# Challenge\n",
    "Now perform and show the interpolation using NearestNDInterpolator"
   ]
  },
  {
   "cell_type": "code",
   "execution_count": null,
   "metadata": {
    "deletable": false,
    "nbgrader": {
     "cell_type": "code",
     "checksum": "db27dc5734f310b43691899be5d5f20a",
     "grade": false,
     "grade_id": "cell-5214b6196a0ee810",
     "locked": false,
     "schema_version": 3,
     "solution": true,
     "task": false
    }
   },
   "outputs": [],
   "source": [
    "# YOUR CODE HERE\n",
    "raise NotImplementedError()"
   ]
  },
  {
   "cell_type": "markdown",
   "metadata": {},
   "source": [
    "# Challenge\n",
    "\n",
    "Now show the interpolation using Radial basis function interpolator RBFInterpolator.\n",
    "\n",
    "Tip: When evaluating the RBFInterpolator it requires a single N x Ndim array rather than Ndim arrays"
   ]
  },
  {
   "cell_type": "code",
   "execution_count": null,
   "metadata": {
    "deletable": false,
    "nbgrader": {
     "cell_type": "code",
     "checksum": "537b0bf486ebf3d382edb357034163a4",
     "grade": false,
     "grade_id": "cell-2013f215b717ffee",
     "locked": false,
     "schema_version": 3,
     "solution": true,
     "task": false
    }
   },
   "outputs": [],
   "source": [
    "\n",
    "# YOUR CODE HERE\n",
    "raise NotImplementedError()"
   ]
  },
  {
   "cell_type": "markdown",
   "metadata": {
    "deletable": false,
    "editable": false,
    "nbgrader": {
     "cell_type": "markdown",
     "checksum": "83b5feccfff03fe6b251584659ad932f",
     "grade": false,
     "grade_id": "cell-3f31ced59aa4219b",
     "locked": true,
     "schema_version": 3,
     "solution": false,
     "task": false
    }
   },
   "source": [
    "### You made it!\n",
    "\n",
    "Congratulations! Make sure to submit your notebook to get credit and don't forget to clear the output first."
   ]
  }
 ],
 "metadata": {
  "kernelspec": {
   "display_name": "Python 3 (ipykernel)",
   "language": "python",
   "name": "python3"
  },
  "language_info": {
   "codemirror_mode": {
    "name": "ipython",
    "version": 3
   },
   "file_extension": ".py",
   "mimetype": "text/x-python",
   "name": "python",
   "nbconvert_exporter": "python",
   "pygments_lexer": "ipython3",
   "version": "3.9.13"
  }
 },
 "nbformat": 4,
 "nbformat_minor": 2
}
