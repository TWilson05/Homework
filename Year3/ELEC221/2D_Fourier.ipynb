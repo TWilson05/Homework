{
  "cells": [
    {
      "cell_type": "markdown",
      "id": "3ef34367-41e5-4c2f-992b-8c5b6f95028c",
      "metadata": {
        "id": "3ef34367-41e5-4c2f-992b-8c5b6f95028c"
      },
      "source": [
        "# Lecture 14. Twice the fun with the 2D Fourier transform"
      ]
    },
    {
      "cell_type": "markdown",
      "id": "605bbee5-325e-4684-a7ec-bb0b8987b143",
      "metadata": {
        "id": "605bbee5-325e-4684-a7ec-bb0b8987b143"
      },
      "source": [
        "## Instructions"
      ]
    },
    {
      "cell_type": "markdown",
      "id": "286b0c40-bc9f-4f64-a800-efb880032cf0",
      "metadata": {
        "id": "286b0c40-bc9f-4f64-a800-efb880032cf0"
      },
      "source": [
        "Please work through this activity together in groups of 3-4. Along the way there will be code blocks to fill in, and conceptual questions to answer. Once you have completed all the sections, you have the **option** to submit (as a group) one copy of this worksheet. **This is not a mandatory assignment**. Instead, contributors to each submission will be granted 2 bonus points (points, not %) that can be \"banked\" and later applied to any assignment, quiz, or test during the term.\n",
        "\n",
        "**Submission deadline**: Saturday at 23:59pm. Late submissions will not be considered for bonus points."
      ]
    },
    {
      "cell_type": "markdown",
      "id": "10dc3fac-a0ab-4b1a-92a6-4b3e20e0c5ec",
      "metadata": {
        "id": "10dc3fac-a0ab-4b1a-92a6-4b3e20e0c5ec"
      },
      "source": [
        "## Overview"
      ]
    },
    {
      "cell_type": "markdown",
      "id": "6f34d3cc-b870-4a3b-90df-908c4f542773",
      "metadata": {
        "id": "6f34d3cc-b870-4a3b-90df-908c4f542773"
      },
      "source": [
        "So far, all the signals we've worked with in the course have been plain old 1-dimensional signals. However, signals come in many shapes and sizes, and the processing of 2-dimensional signals is something we encounter on a daily basis (basically, anytime we look at a screen).\n",
        "\n",
        "In this hands-on \"lecture\", you'll learn a few basic techniques for processing 2D images. Similar to our audio processing exercise, we'll mostly be applying simple filters. After working through this notebook, you'll be able to:\n",
        " - define and compute the Fourier transform of two-dimensional signals\n",
        " - describe the role of a spectrum's magnitude and phase in image processing\n",
        " - apply simple filters to modify images in Python"
      ]
    },
    {
      "cell_type": "markdown",
      "id": "f921bd41-aee3-4d6f-ae21-64830fc1a5a5",
      "metadata": {
        "id": "f921bd41-aee3-4d6f-ae21-64830fc1a5a5"
      },
      "source": [
        "Let's start by importing some useful libraries. Note that, for this exercise, you'll need to install the `scikit-image` package."
      ]
    },
    {
      "cell_type": "code",
      "execution_count": null,
      "id": "a60eea8c-3023-4cba-8b62-0d1c8b367bd3",
      "metadata": {
        "id": "a60eea8c-3023-4cba-8b62-0d1c8b367bd3"
      },
      "outputs": [],
      "source": [
        "import numpy as np\n",
        "import matplotlib.pyplot as plt\n",
        "import skimage\n",
        "from skimage import io, color"
      ]
    },
    {
      "cell_type": "markdown",
      "id": "c2717fd2-c609-4d5e-a5a4-5be55b4fe0a8",
      "metadata": {
        "id": "c2717fd2-c609-4d5e-a5a4-5be55b4fe0a8"
      },
      "source": [
        "## Part 1: mathematical expression of 2D signals"
      ]
    },
    {
      "cell_type": "markdown",
      "id": "f96e3624-7a9d-4173-8cdb-88ec3b2cffa8",
      "metadata": {
        "id": "f96e3624-7a9d-4173-8cdb-88ec3b2cffa8"
      },
      "source": [
        "Everything we've done so far with Fourier analysis can be extended to multi-dimensional signals. As a starting point, let's consider what this looks like in continuous time. If a continuous-time signal is periodic, we can express it using a Fourier series. In 1D, this amounts to a linear combination of sines and cosines (or equivalently, of complex exponential signals) with integer multiples of a fundamental frequency:\n",
        "\n",
        "$$\n",
        "x(t) = \\sum_{k=-\\infty}^{\\infty} c_k e^{jk\\omega t} = a_0 + \\sum_{k=1}^{\\infty} a_k \\cos(k \\omega t) + \\sum_{k=1}^{\\infty} b_k \\sin(k \\omega t)\n",
        "$$\n",
        "\n",
        "The complex exponentials and trigonometric functions are *basis functions*, and we are expressing everything in terms of them.\n",
        "\n",
        "In 2D, things are quite similar. Rather than expressing our signals as functions of time (since time is not 2D), let's instead consider continuous-time signals as functions over space. We'll write them as $f(x, y)$. Just like in 1D, periodic signals in 2D can be expressed as linear combinations of complex exponentials (or trig functions, if you prefer), but now there are two of everything (you might recognize these types of functions from your ODEs class, too):\n",
        "\n",
        "$$\n",
        "f(x, y) = \\sum_{k=-\\infty}^{\\infty}\\sum_{\\ell=-\\infty}^{\\infty} c_{k,l}  \\exp\\left[j k \\omega_x x\\right] \\exp\\left[j \\ell \\omega_y y\\right].\n",
        "$$\n",
        "\n",
        "\n",
        "\n",
        "In discrete time, for a periodic signal $f[x, y]$ with dimensions $M \\times N$, we have\n",
        "\n",
        "$$\n",
        "f[x, y] = \\sum_{k=0}^{M-1}\\sum_{\\ell=0}^{N-1} c_{k, \\ell} \\exp\\left[j k \\frac{2\\pi}{M} x\\right] \\exp\\left[j \\ell \\frac{2\\pi}{N} y\\right]\n",
        "$$\n",
        "\n",
        "Let's start by playing with some basis functions."
      ]
    },
    {
      "cell_type": "markdown",
      "id": "24e745f6-58de-4ed6-bddc-88fd22debd82",
      "metadata": {
        "id": "24e745f6-58de-4ed6-bddc-88fd22debd82"
      },
      "source": [
        "**Question 1.1**. Fill in the function below to implement a function that constructs discretized versions of a single basis function."
      ]
    },
    {
      "cell_type": "code",
      "execution_count": null,
      "id": "96ca9029-2f87-4475-9a0c-ab8d0f971e76",
      "metadata": {
        "id": "96ca9029-2f87-4475-9a0c-ab8d0f971e76"
      },
      "outputs": [],
      "source": [
        "def construct_2D_basis_function(k, M, l, N):\n",
        "    \"\"\"Create and return a 2D basis function.\n",
        "\n",
        "    This function should return a new function, f(x, y), such that\n",
        "        f(x, y) = exp(1j * k * (2 pi / M) * x) exp(1j * ky * (2 pi / N) * y)\n",
        "\n",
        "    Args:\n",
        "        k (int): index of the harmonic in the x direction\n",
        "        M (int): period of the signal in the x direction\n",
        "        l (int): index of the harmonic in the y direction\n",
        "        N (int): period of the signal in the y direction\n",
        "\n",
        "    Returns:\n",
        "        Callable: a function that implements the f(x, y) described above.\n",
        "        It should take two inputs, x and y, and return a single\n",
        "        complex number.\n",
        "    \"\"\"\n",
        "    def f(x,y):\n",
        "      return np.exp(1j*k*(2*np.pi/M)*x)*np.exp(1j*l*(2*np.pi/N)*y)\n",
        "    return f"
      ]
    },
    {
      "cell_type": "markdown",
      "id": "03604ebd-9434-49af-ab73-1a661022a5a8",
      "metadata": {
        "id": "03604ebd-9434-49af-ab73-1a661022a5a8"
      },
      "source": [
        "It might seem a bit odd to express our function in this way. However this will come in handy for what we are going to do next.\n",
        "\n",
        "**Question 1.2**. Construct and plot the real part of the following basis functions evaluated on a grid of points (provided below):\n",
        " - $k = 1$, $\\ell = 0$\n",
        " - $k = 0$, $\\ell = 1$\n",
        " - $k = 2$, $\\ell = 3$\n",
        " - $k = 4$, $\\ell = 6$\n",
        "\n",
        "You can plot an array with `matplotlib` using the following code snippet:\n",
        "```python\n",
        "plt.matshow(my_matrix, cmap='gray')\n",
        "```\n",
        "\n",
        "*Pro tip*: with the provided grid, you should be able to do this without using any `for` loops!"
      ]
    },
    {
      "cell_type": "code",
      "execution_count": null,
      "id": "11084acc-a7a8-4eab-98a7-279ede7ac293",
      "metadata": {
        "id": "11084acc-a7a8-4eab-98a7-279ede7ac293"
      },
      "outputs": [],
      "source": [
        "# Here we are defining a range of x and y coordinates over which to\n",
        "# evaluate the functions. I've set M and N to be reasonably small and\n",
        "# equal, but you can make them larger.\n",
        "M = 50\n",
        "N = 50\n",
        "\n",
        "x_range = np.arange(0, M)\n",
        "y_range = np.arange(0, N)\n",
        "\n",
        "# np.meshgrid will tile the arrays such that what comes back\n",
        "# will be two M x N grids of points represent the coordinates.\n",
        "x_axis, y_axis = np.meshgrid(x_range, y_range)"
      ]
    },
    {
      "cell_type": "code",
      "execution_count": null,
      "id": "127e1284-8fb7-48be-a80d-904b4ceb7314",
      "metadata": {
        "colab": {
          "base_uri": "https://localhost:8080/",
          "height": 1000
        },
        "id": "127e1284-8fb7-48be-a80d-904b4ceb7314",
        "outputId": "d41e4ebd-f527-4d83-8a7a-6088d31369b6"
      },
      "outputs": [
        {
          "output_type": "stream",
          "name": "stderr",
          "text": [
            "/usr/local/lib/python3.7/dist-packages/ipykernel_launcher.py:6: ComplexWarning: Casting complex values to real discards the imaginary part\n",
            "  \n"
          ]
        },
        {
          "output_type": "display_data",
          "data": {
            "text/plain": [
              "<Figure size 288x288 with 1 Axes>"
            ],
            "image/png": "[encoded data removed]"
          },
          "metadata": {
            "needs_background": "light"
          }
        },
        {
          "output_type": "display_data",
          "data": {
            "text/plain": [
              "<Figure size 288x288 with 1 Axes>"
            ],
            "image/png": "[encoded data removed]"
          },
          "metadata": {
            "needs_background": "light"
          }
        },
        {
          "output_type": "display_data",
          "data": {
            "text/plain": [
              "<Figure size 288x288 with 1 Axes>"
            ],
            "image/png": "[encoded data removed]"
          },
          "metadata": {
            "needs_background": "light"
          }
        },
        {
          "output_type": "display_data",
          "data": {
            "text/plain": [
              "<Figure size 288x288 with 1 Axes>"
            ],
            "image/png": "[encoded data removed]"
          },
          "metadata": {
            "needs_background": "light"
          }
        }
      ],
      "source": [
        "def showPlot(k,l):\n",
        "  function = construct_2D_basis_function(k,M,l,N)\n",
        "  matrix = np.zeros((M,N))\n",
        "  for x in x_range:\n",
        "    for y in y_range:\n",
        "      matrix[y,x] = function(x,y)\n",
        "\n",
        "  plt.matshow(matrix, cmap='gray')\n",
        "\n",
        "showPlot(1,0)\n",
        "showPlot(0,1)\n",
        "showPlot(2,3)\n",
        "showPlot(4,6)"
      ]
    },
    {
      "cell_type": "code",
      "execution_count": null,
      "id": "f759b9b3-2890-478a-bfeb-86bd859ccd84",
      "metadata": {
        "id": "f759b9b3-2890-478a-bfeb-86bd859ccd84"
      },
      "outputs": [],
      "source": []
    },
    {
      "cell_type": "code",
      "execution_count": null,
      "id": "cc9f4a8e-f999-42b3-88a9-a1a2fa3a240a",
      "metadata": {
        "id": "cc9f4a8e-f999-42b3-88a9-a1a2fa3a240a"
      },
      "outputs": [],
      "source": []
    },
    {
      "cell_type": "code",
      "execution_count": null,
      "id": "74cf354b-38aa-4d07-bb34-fbdc063900ee",
      "metadata": {
        "id": "74cf354b-38aa-4d07-bb34-fbdc063900ee"
      },
      "outputs": [],
      "source": []
    },
    {
      "cell_type": "markdown",
      "id": "5fb8f3cf-8716-4c98-94bf-845aedceb710",
      "metadata": {
        "id": "5fb8f3cf-8716-4c98-94bf-845aedceb710"
      },
      "source": [
        "**Question 1.3**. Play a bit more with the function you made above, and see how the output image changes. What happens when you set a constant $k$ and start increasing $\\ell$? Similarly, what happens if you hold $\\ell$ constant and start increasing $k$? Describe your findings in the cell below before moving on."
      ]
    },
    {
      "cell_type": "markdown",
      "id": "b5eefa2e-0e2d-4148-b060-77aecfaab627",
      "metadata": {
        "id": "b5eefa2e-0e2d-4148-b060-77aecfaab627"
      },
      "source": []
    },
    {
      "cell_type": "code",
      "source": [
        "showPlot(1,2)\n",
        "showPlot(1,3)\n",
        "showPlot(1,4)\n",
        "showPlot(1,1)\n",
        "showPlot(2,1)\n",
        "showPlot(3,1)\n",
        "showPlot(4,1)"
      ],
      "metadata": {
        "colab": {
          "base_uri": "https://localhost:8080/",
          "height": 1000
        },
        "id": "swpNX_R7HNV2",
        "outputId": "2030d19b-1302-4e52-f792-afa6419e8241"
      },
      "id": "swpNX_R7HNV2",
      "execution_count": null,
      "outputs": [
        {
          "output_type": "stream",
          "name": "stderr",
          "text": [
            "/usr/local/lib/python3.7/dist-packages/ipykernel_launcher.py:6: ComplexWarning: Casting complex values to real discards the imaginary part\n",
            "  \n"
          ]
        },
        {
          "output_type": "display_data",
          "data": {
            "text/plain": [
              "<Figure size 288x288 with 1 Axes>"
            ],
            "image/png": "[encoded data removed]"
          },
          "metadata": {
            "needs_background": "light"
          }
        },
        {
          "output_type": "display_data",
          "data": {
            "text/plain": [
              "<Figure size 288x288 with 1 Axes>"
            ],
            "image/png": "[encoded data removed]"
          },
          "metadata": {
            "needs_background": "light"
          }
        },
        {
          "output_type": "display_data",
          "data": {
            "text/plain": [
              "<Figure size 288x288 with 1 Axes>"
            ],
            "image/png": "[encoded data removed]"
          },
          "metadata": {
            "needs_background": "light"
          }
        },
        {
          "output_type": "display_data",
          "data": {
            "text/plain": [
              "<Figure size 288x288 with 1 Axes>"
            ],
            "image/png": "[encoded data removed]"
          },
          "metadata": {
            "needs_background": "light"
          }
        },
        {
          "output_type": "display_data",
          "data": {
            "text/plain": [
              "<Figure size 288x288 with 1 Axes>"
            ],
            "image/png": "[encoded data removed]"
          },
          "metadata": {
            "needs_background": "light"
          }
        },
        {
          "output_type": "display_data",
          "data": {
            "text/plain": [
              "<Figure size 288x288 with 1 Axes>"
            ],
            "image/png": "[encoded data removed]"
          },
          "metadata": {
            "needs_background": "light"
          }
        },
        {
          "output_type": "display_data",
          "data": {
            "text/plain": [
              "<Figure size 288x288 with 1 Axes>"
            ],
            "image/png": "[encoded data removed]"
          },
          "metadata": {
            "needs_background": "light"
          }
        }
      ]
    },
    {
      "cell_type": "markdown",
      "source": [
        "We get more stipes for higher values. Keeping constant $k$ holds the angle constant with lower $k$ corresponding to a vertical angle and"
      ],
      "metadata": {
        "id": "9IB_8ZkCHn1b"
      },
      "id": "9IB_8ZkCHn1b"
    },
    {
      "cell_type": "markdown",
      "id": "ab7667f6-381d-4552-940b-080c8d2f7c53",
      "metadata": {
        "id": "ab7667f6-381d-4552-940b-080c8d2f7c53"
      },
      "source": [
        "## Part 2: 2D Fourier spectra"
      ]
    },
    {
      "cell_type": "markdown",
      "id": "72ed6a9d-508f-45a1-92c7-81badd6016ec",
      "metadata": {
        "id": "72ed6a9d-508f-45a1-92c7-81badd6016ec"
      },
      "source": [
        "In class, we computed the 1D discrete Fourier transform,\n",
        "\n",
        "$$\n",
        "\\tilde{X}[k] = \\frac{1}{N} \\sum_{n=0}^{N-1} x[n] \\exp\\left[- j k \\frac{2\\pi}{N} n\\right]\n",
        "$$\n",
        "\n",
        "We saw that this is essentially a set of evenly-spaced samples of the more general discrete-time Fourier transform, which is a continuous function of frequency:\n",
        "\n",
        "$$\n",
        "X(e^{j\\omega}) = \\sum_{n=-\\infty}^{\\infty} x[n] \\exp\\left[- j \\frac{2\\pi}{N} n \\right]\n",
        "$$\n",
        "\n",
        "The values of $X(e^{j\\omega})$ and $\\tilde{X}[k]$ tell us how much a particular frequency contributes to the signal.\n",
        "This all generalizes to 2D. Suppose we have a 2D signal $f[x, y]$ with dimensions $M \\times N$. Its discrete Fourier transform is given by\n",
        "\n",
        "$$\n",
        "\\tilde{X}[k, \\ell] = \\frac{1}{M N} \\sum_{m=0}^{M-1} \\sum_{n=0}^{N-1} f[x, y] \\exp\\left[- j k \\frac{2\\pi}{M} m\\right] \\exp\\left[- j \\ell \\frac{2\\pi}{N} n\\right]\n",
        "$$"
      ]
    },
    {
      "cell_type": "markdown",
      "id": "1cd7b2d4-8687-471b-b45d-00cc83cbf74c",
      "metadata": {
        "id": "1cd7b2d4-8687-471b-b45d-00cc83cbf74c"
      },
      "source": [
        "**Question 2.1.** (a) Compute the Fourier spectrum of some of the basis functions you made in the previous section (head over to the [NumPy docs](https://numpy.org/doc/stable/reference/routines.fft.html) to find the right function for this purpose).\n",
        "\n",
        "(b) Apply a *shift* so that the lowest-valued frequencies are in the middle (this is done for visual convenience)\n",
        "\n",
        "(c) Plot the *magnitude* of the spectrum.\n",
        "\n",
        "What do you see? Does this make sense?"
      ]
    },
    {
      "cell_type": "markdown",
      "id": "01f45278-c168-4eea-b397-93d1769cdb20",
      "metadata": {
        "id": "01f45278-c168-4eea-b397-93d1769cdb20"
      },
      "source": []
    },
    {
      "cell_type": "code",
      "execution_count": null,
      "id": "b3254691-def3-4ca1-ae62-96b153a26720",
      "metadata": {
        "colab": {
          "base_uri": "https://localhost:8080/",
          "height": 327
        },
        "id": "b3254691-def3-4ca1-ae62-96b153a26720",
        "outputId": "46dab5ed-5592-49f0-c7c2-fb5d2b733ea7"
      },
      "outputs": [
        {
          "output_type": "stream",
          "name": "stderr",
          "text": [
            "/usr/local/lib/python3.7/dist-packages/ipykernel_launcher.py:6: ComplexWarning: Casting complex values to real discards the imaginary part\n",
            "  \n"
          ]
        },
        {
          "output_type": "execute_result",
          "data": {
            "text/plain": [
              "<matplotlib.image.AxesImage at 0x7f987a741510>"
            ]
          },
          "metadata": {},
          "execution_count": 48
        },
        {
          "output_type": "display_data",
          "data": {
            "text/plain": [
              "<Figure size 288x288 with 1 Axes>"
            ],
            "image/png": "[encoded data removed]"
          },
          "metadata": {
            "needs_background": "light"
          }
        }
      ],
      "source": [
        "def getFFT(k,l):\n",
        "  func = construct_2D_basis_function(k,M,l,N)\n",
        "  matrix = np.zeros((M,N))\n",
        "  for x in x_range:\n",
        "    for y in y_range:\n",
        "      matrix[y,x] = func(x,y)\n",
        "  matrix_1 = np.fft.fft2(matrix)\n",
        "  matrix_1 = np.roll(matrix_1, N//2, axis=0)\n",
        "  matrix_1 = np.roll(matrix_1, M//2, axis=1)\n",
        "  return matrix_1\n",
        "A = getFFT(1,25)\n",
        "plt.matshow(A.real)"
      ]
    },
    {
      "cell_type": "markdown",
      "id": "1acbe04d-4cbe-46f7-b657-ef28d7836edd",
      "metadata": {
        "id": "1acbe04d-4cbe-46f7-b657-ef28d7836edd"
      },
      "source": [
        "**Question 2.2.** Try summing together two different basis functions, then plot the magnitude of the resulting Fourier spectrum. Does your result make sense, based on the previous question?"
      ]
    },
    {
      "cell_type": "markdown",
      "id": "3e055b10-40dc-4d09-bd6a-d5497e1aadb1",
      "metadata": {
        "id": "3e055b10-40dc-4d09-bd6a-d5497e1aadb1"
      },
      "source": []
    },
    {
      "cell_type": "code",
      "execution_count": null,
      "id": "3f35a2c6-ac7f-4300-bb48-0e63316e866e",
      "metadata": {
        "id": "3f35a2c6-ac7f-4300-bb48-0e63316e866e"
      },
      "outputs": [],
      "source": []
    },
    {
      "cell_type": "code",
      "execution_count": null,
      "id": "93173266-3fb4-4d93-aeb9-f989c74136a2",
      "metadata": {
        "id": "93173266-3fb4-4d93-aeb9-f989c74136a2"
      },
      "outputs": [],
      "source": []
    },
    {
      "cell_type": "markdown",
      "id": "9921a8da-b762-4a3c-b300-a940c465b695",
      "metadata": {
        "id": "9921a8da-b762-4a3c-b300-a940c465b695"
      },
      "source": [
        "Let's take a look now at an actual image. To get started, run the cells below to load it in and display it."
      ]
    },
    {
      "cell_type": "code",
      "execution_count": null,
      "id": "2bdfccec-d4e6-4fdb-86da-bbd9cb50a21e",
      "metadata": {
        "id": "2bdfccec-d4e6-4fdb-86da-bbd9cb50a21e"
      },
      "outputs": [],
      "source": [
        "# We will deliberately load this image in gray scale - we'll see some colour\n",
        "# in the next section.\n",
        "image = io.imread(\"keyboard-emoji.png\", as_gray=True)"
      ]
    },
    {
      "cell_type": "code",
      "execution_count": null,
      "id": "6e5aa2c0-c754-42d4-b5e0-c0397ac18e06",
      "metadata": {
        "id": "6e5aa2c0-c754-42d4-b5e0-c0397ac18e06"
      },
      "outputs": [],
      "source": [
        "# You can use either io.imshow, or plt.imshow/plt.matshow here with a grayscale colour\n",
        "# io.imshow(image)\n",
        "plt.imshow(image, cmap='gray')"
      ]
    },
    {
      "cell_type": "markdown",
      "id": "4aaee185-0475-4d94-9fa5-c0033da85ee6",
      "metadata": {
        "id": "4aaee185-0475-4d94-9fa5-c0033da85ee6"
      },
      "source": [
        "**Question 2.3**. I've chosen this image for a very particular reason (and it's not just because I'm a pianist!). Take a close look, and consider your findings from problem 1. Why do you think I chose it?"
      ]
    },
    {
      "cell_type": "markdown",
      "id": "c52fc996-195b-4844-b65a-550b23c60036",
      "metadata": {
        "id": "c52fc996-195b-4844-b65a-550b23c60036"
      },
      "source": []
    },
    {
      "cell_type": "markdown",
      "id": "195571bf-7657-49a5-a974-64058bc8f561",
      "metadata": {
        "id": "195571bf-7657-49a5-a974-64058bc8f561"
      },
      "source": [
        "**Question 2.4.** Compute the 2D Fourier transform of the image we loaded up. Apply a *shift* so that the lowest-valued frequencies are in the middle, then plot it's *magnitude* and *phase* components (note that this is not the same as its real and imaginary components)."
      ]
    },
    {
      "cell_type": "code",
      "execution_count": null,
      "id": "c97540d0-3e6b-44c9-811a-5a3d361707cb",
      "metadata": {
        "id": "c97540d0-3e6b-44c9-811a-5a3d361707cb"
      },
      "outputs": [],
      "source": []
    },
    {
      "cell_type": "code",
      "execution_count": null,
      "id": "d53473dd-2dbd-4de3-a924-d0f4c18e262d",
      "metadata": {
        "id": "d53473dd-2dbd-4de3-a924-d0f4c18e262d"
      },
      "outputs": [],
      "source": []
    },
    {
      "cell_type": "code",
      "execution_count": null,
      "id": "f5c31671-6a7b-42fa-8aae-0ffcd2bb6370",
      "metadata": {
        "id": "f5c31671-6a7b-42fa-8aae-0ffcd2bb6370"
      },
      "outputs": [],
      "source": []
    },
    {
      "cell_type": "markdown",
      "id": "fe193754-6b92-4fe2-9dba-e1b7e4bccca1",
      "metadata": {
        "id": "fe193754-6b92-4fe2-9dba-e1b7e4bccca1"
      },
      "source": [
        "**Question 2.5.** You might have noticed something weird here. In order to see more detail, try plotting the `log` of the magnitude plot. Does this give you any more information? What does it tell you about the structure of the original image?"
      ]
    },
    {
      "cell_type": "markdown",
      "id": "566c97db-5bad-49aa-8d6b-2234a022d251",
      "metadata": {
        "id": "566c97db-5bad-49aa-8d6b-2234a022d251"
      },
      "source": []
    },
    {
      "cell_type": "code",
      "execution_count": null,
      "id": "6fb339c3-c131-4dae-8286-f23240c1d226",
      "metadata": {
        "id": "6fb339c3-c131-4dae-8286-f23240c1d226"
      },
      "outputs": [],
      "source": []
    },
    {
      "cell_type": "markdown",
      "id": "02a641f3-a6f4-423e-b85b-e21ac94c6239",
      "metadata": {
        "id": "02a641f3-a6f4-423e-b85b-e21ac94c6239"
      },
      "source": [
        "**Question 2.6** Now let's apply the inverse 2D Fourier transform to reconstruct our original image (don't forget to apply the inverse shift!). Do this in three different ways, and plot the real and imaginary parts of the resulting image each time:\n",
        " - inverse transform the full spectrum\n",
        " - inverse transform the magnitude only\n",
        " - inverse transform the phase part only\n",
        "\n",
        "For the latter two, recall that a complex number can be represented as $z = |z| e^{j \\phi}$ where $\\phi$ is the phase. The magnitude-only case should consider only $|z|$, while the phase part should consider $e^{j\\phi}$ and not just $\\phi$.\n",
        "\n",
        "From this, describe the role does that the phase of the spectrum plays in describing an image."
      ]
    },
    {
      "cell_type": "markdown",
      "id": "6c331a3d-13fc-46b2-842d-f7525700ca9d",
      "metadata": {
        "id": "6c331a3d-13fc-46b2-842d-f7525700ca9d"
      },
      "source": []
    },
    {
      "cell_type": "code",
      "execution_count": null,
      "id": "9aac33f9-bcb9-4c81-a894-ac2cc879e760",
      "metadata": {
        "id": "9aac33f9-bcb9-4c81-a894-ac2cc879e760"
      },
      "outputs": [],
      "source": []
    },
    {
      "cell_type": "code",
      "execution_count": null,
      "id": "b47e10a6-b334-4dfe-a444-2a42eff75f0a",
      "metadata": {
        "id": "b47e10a6-b334-4dfe-a444-2a42eff75f0a"
      },
      "outputs": [],
      "source": []
    },
    {
      "cell_type": "code",
      "execution_count": null,
      "id": "30e1e7ec-3c62-4971-aa31-9a10c966a7c3",
      "metadata": {
        "id": "30e1e7ec-3c62-4971-aa31-9a10c966a7c3"
      },
      "outputs": [],
      "source": []
    },
    {
      "cell_type": "code",
      "execution_count": null,
      "id": "ad35b2c7-aab9-46d1-a597-fed66acf8a76",
      "metadata": {
        "id": "ad35b2c7-aab9-46d1-a597-fed66acf8a76"
      },
      "outputs": [],
      "source": []
    },
    {
      "cell_type": "code",
      "execution_count": null,
      "id": "fea9cbf3-b289-48e7-b4b6-ba156da7df0c",
      "metadata": {
        "id": "fea9cbf3-b289-48e7-b4b6-ba156da7df0c"
      },
      "outputs": [],
      "source": []
    },
    {
      "cell_type": "code",
      "execution_count": null,
      "id": "25fc5490-28e9-4704-9091-1f713e252dfa",
      "metadata": {
        "id": "25fc5490-28e9-4704-9091-1f713e252dfa"
      },
      "outputs": [],
      "source": []
    },
    {
      "cell_type": "markdown",
      "id": "792a62ec-5939-4b37-b176-d83d3d8b6945",
      "metadata": {
        "id": "792a62ec-5939-4b37-b176-d83d3d8b6945"
      },
      "source": [
        "Knowledge of the magnitude and phase content of an image's spectrum can be used for many processing tasks. Text alignment is one example; we won't go into the specifics, but I'll provide a basis for you to get started should you be interested in doing so.  \n",
        "\n",
        "**Question 2.7.** Load up the image below, then plot the log magnitude and phase of its Fourier spectrum (remember to apply the shift to help with visualization). What do you see?"
      ]
    },
    {
      "cell_type": "code",
      "execution_count": null,
      "id": "bf7935c6-f7cf-436d-97c8-8c34cda84f76",
      "metadata": {
        "id": "bf7935c6-f7cf-436d-97c8-8c34cda84f76"
      },
      "outputs": [],
      "source": [
        "text_image = io.imread(\"rotated-text.png\", as_gray=True)"
      ]
    },
    {
      "cell_type": "code",
      "execution_count": null,
      "id": "c07d8823-4986-4de9-b0bb-34a64f10d100",
      "metadata": {
        "id": "c07d8823-4986-4de9-b0bb-34a64f10d100"
      },
      "outputs": [],
      "source": [
        "io.imshow(text_image)"
      ]
    },
    {
      "cell_type": "code",
      "execution_count": null,
      "id": "39a6e2ae-b005-4ab1-979e-5b2328d55504",
      "metadata": {
        "id": "39a6e2ae-b005-4ab1-979e-5b2328d55504"
      },
      "outputs": [],
      "source": []
    },
    {
      "cell_type": "code",
      "execution_count": null,
      "id": "7ef499f4-139c-405f-ba8f-7de99b1688dd",
      "metadata": {
        "id": "7ef499f4-139c-405f-ba8f-7de99b1688dd"
      },
      "outputs": [],
      "source": []
    },
    {
      "cell_type": "code",
      "execution_count": null,
      "id": "6f738ccc-194a-462f-91b6-47b74fe87312",
      "metadata": {
        "id": "6f738ccc-194a-462f-91b6-47b74fe87312"
      },
      "outputs": [],
      "source": []
    },
    {
      "cell_type": "markdown",
      "id": "c51d94fd-9c1f-450a-ab92-af33c94af51f",
      "metadata": {
        "id": "c51d94fd-9c1f-450a-ab92-af33c94af51f"
      },
      "source": [
        "**Question 2.8. (Optional challenge)** As suggested in the image itself, one can determine an angle from the Fourier spectrum and apply a corrective rotation. Research some methods to accomplish this, and implement one of them. As a starting point, you might consider the [Hough transform](https://en.wikipedia.org/wiki/Hough_transform), which can detect lines in an image. See also [this paper](https://www.researchgate.net/publication/272825230_Hough_and_Fourier_Transforms_in_the_Task_of_Text_Lines_Detection)."
      ]
    },
    {
      "cell_type": "markdown",
      "id": "98773871-c8b2-452c-bffe-d662c728f52a",
      "metadata": {
        "id": "98773871-c8b2-452c-bffe-d662c728f52a"
      },
      "source": []
    },
    {
      "cell_type": "markdown",
      "id": "2371df21-0b03-43ee-a304-5464ed39108b",
      "metadata": {
        "id": "2371df21-0b03-43ee-a304-5464ed39108b"
      },
      "source": [
        "## Part 3: life in colour"
      ]
    },
    {
      "cell_type": "markdown",
      "id": "1bc6a025-08e5-4126-a8cd-0d7de168db00",
      "metadata": {
        "id": "1bc6a025-08e5-4126-a8cd-0d7de168db00"
      },
      "source": [
        "Colour images are of course more interesting. Depending on the file type, a colour image is stored as a set of 3 (or 4) 2D arrays which contain values describing their R (red), G (green), and B (blue) components respectively (the fourth channel, A (alpha) when present, is a measure of transparency). Load up the jpeg image below; it has only 3 channels. We'll plot them out separately. Then, we'll start applying some simple filters to modify the image."
      ]
    },
    {
      "cell_type": "code",
      "execution_count": null,
      "id": "946848a6-b9c8-456c-9e30-79e7d4505ec4",
      "metadata": {
        "id": "946848a6-b9c8-456c-9e30-79e7d4505ec4"
      },
      "outputs": [],
      "source": [
        "colour_image = io.imread(\"rainbow.jpeg\")"
      ]
    },
    {
      "cell_type": "code",
      "execution_count": null,
      "id": "06356a3f-4e2d-45f3-8764-1158436acf4b",
      "metadata": {
        "id": "06356a3f-4e2d-45f3-8764-1158436acf4b"
      },
      "outputs": [],
      "source": [
        "# Note the dimensions of this image\n",
        "colour_image.shape"
      ]
    },
    {
      "cell_type": "code",
      "execution_count": null,
      "id": "c7f144a7-fa6f-4040-a36a-ac780ed4ca60",
      "metadata": {
        "id": "c7f144a7-fa6f-4040-a36a-ac780ed4ca60"
      },
      "outputs": [],
      "source": [
        "io.imshow(colour_image)"
      ]
    },
    {
      "cell_type": "code",
      "execution_count": null,
      "id": "d03f5bdc-2a59-4871-8fa8-9d69ea11d0dd",
      "metadata": {
        "id": "d03f5bdc-2a59-4871-8fa8-9d69ea11d0dd"
      },
      "outputs": [],
      "source": [
        "# We will plot these in gray scale, otherwise the default matplotlib\n",
        "# cmap is yellow and purple\n",
        "fig, ax = plt.subplots(1, 3, figsize=(20, 12))\n",
        "ax[0].imshow(colour_image[:,:,0], cmap='gray')\n",
        "ax[0].set_title(\"R channel\")\n",
        "ax[1].imshow(colour_image[:,:,1], cmap='gray')\n",
        "ax[1].set_title(\"G channel\")\n",
        "ax[2].imshow(colour_image[:,:,2], cmap='gray')\n",
        "ax[2].set_title(\"B channel\")"
      ]
    },
    {
      "cell_type": "markdown",
      "id": "eeba6add-4e8d-4230-ada1-493257ff112e",
      "metadata": {
        "id": "eeba6add-4e8d-4230-ada1-493257ff112e"
      },
      "source": [
        "### Part 3a: it only gets butter from here"
      ]
    },
    {
      "cell_type": "markdown",
      "id": "fb3f413f-b8c9-4098-b53a-af65a145c10e",
      "metadata": {
        "id": "fb3f413f-b8c9-4098-b53a-af65a145c10e"
      },
      "source": [
        "*Note: If you like, you can select an image of your choice moving forward. For convenience, choose one that's square, and work only with the RGB channels.*"
      ]
    },
    {
      "cell_type": "markdown",
      "id": "e9fd9e6f-1f71-4b83-997b-5d364fbb0939",
      "metadata": {
        "id": "e9fd9e6f-1f71-4b83-997b-5d364fbb0939"
      },
      "source": [
        "The notion of highpass and lowpass filters exists in 2D as well. Rather than writing our own primitive, ideal filters, let's make use of what's already available in `scikit-image`. We'll look first at a type of filter called a [Butterworth filter](https://en.wikipedia.org/wiki/Butterworth_filter). This is a type of non-ideal filter that attenuates frequencies more gradually than a \"brick wall\" ideal filter. The strength of attenuation, i.e., how quickly the frequency response drops to 0, is dictated by an *order parameter*. The greater the order, the steeper the drop. This has interesting consequences for the images."
      ]
    },
    {
      "cell_type": "markdown",
      "id": "f5fe546e-8e27-4142-98c5-a7170eee3a22",
      "metadata": {
        "id": "f5fe546e-8e27-4142-98c5-a7170eee3a22"
      },
      "source": [
        "**Question 3.1.** The Butterworth filter from `scikit-image` does not work automatically for multi-channel images. Complete the function below to apply it to every channel. See the [function documentation](https://scikit-image.org/docs/stable/api/skimage.filters.html?highlight=butterworth#skimage.filters.butterworth) for a description of the parameters.\n",
        "\n",
        "*Note*: you can, alternatively, use a decorator to adapt the filter directly, as is demonstrated [here](https://scikit-image.org/docs/stable/auto_examples/color_exposure/plot_adapt_rgb.html#sphx-glr-auto-examples-color-exposure-plot-adapt-rgb-py)."
      ]
    },
    {
      "cell_type": "code",
      "execution_count": null,
      "id": "4c1062fc-3ef6-4112-9ff2-c862d2b43a58",
      "metadata": {
        "id": "4c1062fc-3ef6-4112-9ff2-c862d2b43a58"
      },
      "outputs": [],
      "source": [
        "def apply_butterworth_filter(image, cutoff_frequency_ratio=0.01, high_pass=False, order=1):\n",
        "    \"\"\"Apply a Butterworth filter to a colour image.\n",
        "\n",
        "    This function should wrap the skimage.filters.butterworth function\n",
        "    so that it is applied to each channel of the image individually, and\n",
        "    then the reconstructed image returned.\n",
        "\n",
        "    Args:\n",
        "        image (array): Array representing a multi-channel image.\n",
        "        cutoff_frequency_ratio (float): Indicates the position of the frequency\n",
        "            cutoff as a percentage of the length of the spectrum.\n",
        "        high_pass (bool): If True, will act as a highpass filter. Otherwise, it\n",
        "            will be a lowpass filter.\n",
        "        order (float): The order of the filter; how quickly the frequency\n",
        "            response drops to 0.\n",
        "\n",
        "    Returns:\n",
        "        array: A multi-channel image that has had the Butterworth filter\n",
        "        applied to each channel indepedently.\n",
        "    \"\"\"\n",
        "    return"
      ]
    },
    {
      "cell_type": "markdown",
      "id": "43b5bd7c-aa5b-405f-bad1-0d36f8bd583e",
      "metadata": {
        "id": "43b5bd7c-aa5b-405f-bad1-0d36f8bd583e"
      },
      "source": [
        "**Question 3.2.** Try applying the filter to your image. How does it change when you apply a lowpass vs. a highpass filter? How is it affected by the order parameter?"
      ]
    },
    {
      "cell_type": "markdown",
      "id": "db622162-c9d7-4b53-b4dd-535534c0b13d",
      "metadata": {
        "id": "db622162-c9d7-4b53-b4dd-535534c0b13d"
      },
      "source": []
    },
    {
      "cell_type": "code",
      "execution_count": null,
      "id": "4bddca1c-eef1-4c9b-8717-97b18cce8958",
      "metadata": {
        "id": "4bddca1c-eef1-4c9b-8717-97b18cce8958"
      },
      "outputs": [],
      "source": []
    },
    {
      "cell_type": "code",
      "execution_count": null,
      "id": "3334bc27-e14e-4780-88d7-d1a22b37f62e",
      "metadata": {
        "id": "3334bc27-e14e-4780-88d7-d1a22b37f62e"
      },
      "outputs": [],
      "source": []
    },
    {
      "cell_type": "markdown",
      "id": "080278eb-337f-4053-948b-8b8c0d269045",
      "metadata": {
        "id": "080278eb-337f-4053-948b-8b8c0d269045"
      },
      "source": [
        "### Part 3b: living on the edge"
      ]
    },
    {
      "cell_type": "markdown",
      "id": "43a276bc-fc5b-4320-80a4-96245a1a491f",
      "metadata": {
        "id": "43a276bc-fc5b-4320-80a4-96245a1a491f"
      },
      "source": [
        "You may have noticed that using a highpass filter in the previous section seems to extract information about more localized features of an image, such as edges. Actual [edge detection](https://en.wikipedia.org/wiki/Edge_detection), however, is done using a different set of tools.\n",
        "Loosely, it involves the application of some sort of differencing operation that compares the value of a pixel as with those of its neighbours.\n",
        "\n",
        "For more information about edge detection, check out [this article in the `scikit-image` docs](https://scikit-image.org/docs/stable/auto_examples/edges/plot_edge_filter.html#sphx-glr-auto-examples-edges-plot-edge-filter-py)."
      ]
    },
    {
      "cell_type": "markdown",
      "id": "a4973633-5c38-4dda-b538-d56dca62173c",
      "metadata": {
        "id": "a4973633-5c38-4dda-b538-d56dca62173c"
      },
      "source": [
        "**Question 3.3.** Select one of the 2D filters available in `scikit-image`.\n",
        "\n",
        "(a) Briefly describe the mathematical operation that the filter performs.\n",
        "\n",
        "(b) Write a function to apply it to all the image channels like you did with the Butterworth filter in the previous section. Does it do what you expect?"
      ]
    },
    {
      "cell_type": "markdown",
      "id": "7e825ad2-59b2-41e1-ada3-3f3524de8c47",
      "metadata": {
        "id": "7e825ad2-59b2-41e1-ada3-3f3524de8c47"
      },
      "source": []
    },
    {
      "cell_type": "code",
      "execution_count": null,
      "id": "a65f7a90-3feb-44fe-a403-c43def0d7b33",
      "metadata": {
        "id": "a65f7a90-3feb-44fe-a403-c43def0d7b33"
      },
      "outputs": [],
      "source": [
        "def edge_detector(image):\n",
        "    \"\"\"Apply an edge detection filter to a colour image.\n",
        "\n",
        "    This function should wrap a filter from skimage.filters so that it is\n",
        "    applied to each channel individually, and the reconstructed image returned.\n",
        "\n",
        "    Add keyword arguments to this function as needed.\n",
        "\n",
        "    Args:\n",
        "        image (array): Array representing a multi-channel image.\n",
        "\n",
        "    Returns:\n",
        "        array: A multi-channel image that has had an edge detection filter\n",
        "        applied to each channel indepedently.\n",
        "    \"\"\"\n",
        "    return"
      ]
    },
    {
      "cell_type": "code",
      "execution_count": null,
      "id": "9bd69f79-0b98-45c1-a5bb-406081d976d5",
      "metadata": {
        "id": "9bd69f79-0b98-45c1-a5bb-406081d976d5"
      },
      "outputs": [],
      "source": []
    },
    {
      "cell_type": "code",
      "execution_count": null,
      "id": "f5cbb223-139c-4daa-9d0b-fb0a6aed9739",
      "metadata": {
        "id": "f5cbb223-139c-4daa-9d0b-fb0a6aed9739"
      },
      "outputs": [],
      "source": []
    },
    {
      "cell_type": "markdown",
      "id": "c9f4683a-0b50-4d00-8836-3c0211b0e0b1",
      "metadata": {
        "id": "c9f4683a-0b50-4d00-8836-3c0211b0e0b1"
      },
      "source": [
        "### Part 3c: face the facts"
      ]
    },
    {
      "cell_type": "markdown",
      "id": "1f618608-f2e1-4964-9cad-1a4eb9da088d",
      "metadata": {
        "id": "1f618608-f2e1-4964-9cad-1a4eb9da088d"
      },
      "source": [
        "Just for fun, let's combine what you did in the previous two tasks to do something silly. For this, you will require images of two faces that have the same dimensions, and the faces in roughly the same position.\n",
        "\n",
        "**Question 3.4 (Optional challenge)**. Load up the images, and filters to each of them individually. Then, combine the filtered images to make a \"hybrid\" face.\n",
        "\n",
        "*If you would like to see a more sophisticated implementation of this, check out this [GitHub repository](https://github.com/LeviBorodenko/hybrid-face). It also contains a nice explanation of how it leverages Fourier analysis.*"
      ]
    },
    {
      "cell_type": "code",
      "execution_count": null,
      "id": "45bfb4dc-ad00-465d-8984-41aabd9ae24a",
      "metadata": {
        "id": "45bfb4dc-ad00-465d-8984-41aabd9ae24a"
      },
      "outputs": [],
      "source": []
    }
  ],
  "metadata": {
    "kernelspec": {
      "display_name": "Python 3",
      "language": "python",
      "name": "python3"
    },
    "language_info": {
      "codemirror_mode": {
        "name": "ipython",
        "version": 3
      },
      "file_extension": ".py",
      "mimetype": "text/x-python",
      "name": "python",
      "nbconvert_exporter": "python",
      "pygments_lexer": "ipython3",
      "version": "3.8.5"
    },
    "colab": {
      "provenance": []
    }
  },
  "nbformat": 4,
  "nbformat_minor": 5
}